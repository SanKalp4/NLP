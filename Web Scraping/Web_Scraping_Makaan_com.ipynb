{
  "nbformat": 4,
  "nbformat_minor": 0,
  "metadata": {
    "colab": {
      "name": "Web Scraping Makaan.com",
      "provenance": [],
      "collapsed_sections": [
        "tNL7I-8zR6-5",
        "pUeSL-mDSC5o"
      ]
    },
    "kernelspec": {
      "name": "python3",
      "display_name": "Python 3"
    },
    "language_info": {
      "name": "python"
    }
  },
  "cells": [
    {
      "cell_type": "code",
      "metadata": {
        "id": "-x42cpx25pDD"
      },
      "source": [
        "# importing libraries\n",
        "from bs4 import BeautifulSoup\n",
        "from urllib.request import urlopen ,Request\n",
        "import requests\n",
        "import numpy as np\n",
        "import pandas as pd"
      ],
      "execution_count": 160,
      "outputs": []
    },
    {
      "cell_type": "markdown",
      "metadata": {
        "id": "tNL7I-8zR6-5"
      },
      "source": [
        "# Approach 1"
      ]
    },
    {
      "cell_type": "code",
      "metadata": {
        "id": "tEfpH41-5zqv"
      },
      "source": [
        "#Loop to go over pages\n",
        "pages = np.arange(1, 11, 1) # to get 200 reviews\n",
        "scraped_makaan=[]\n",
        "\n",
        "\n",
        "for page in pages:\n",
        "    page=\"https://www.makaan.com/kolkata-residential-property/buy-property-in-kolkata-city?page=\" + str(page)\n",
        "    r = Request(page, headers={'User-Agent': 'Mozilla/5.0'})\n",
        "    response = urlopen(r).read().decode('utf-8')\n",
        "    f = requests.get(page)\n",
        "    soup= BeautifulSoup(response,'html')\n",
        "    my_table = soup.find_all(name = 'li', attrs = {'class': 'cardholder'})\n",
        "\n",
        "    for i in my_table:\n",
        "      title = i.find_all(name = 'div', attrs = {'class': 'title-line'})\n",
        "\n",
        "      if len(title) > 0:  #for nan value\n",
        "        title = title[0].get_text()\n",
        "      \n",
        "      location = i.find_all(name = 'div', attrs = {'class': 'locWrap'})\n",
        "      if len(location) > 0:\n",
        "        location = location[0].get_text()\n",
        "      \n",
        "      price = i.find_all(name = 'td', attrs = {'class': 'price'})\n",
        "      if len(price) > 0:\n",
        "        price = price[0].get_text()\n",
        "        price= price.replace(',','')\n",
        "        \n",
        "      size = i.find_all(name = 'td', attrs = {'class': 'size'})\n",
        "      if len(size) > 0:\n",
        "        size = size[0].get_text()\n",
        "      \n",
        "      status = i.find_all(name = 'td', attrs = {'class': 'val'})\n",
        "      if len(status) > 0:\n",
        "        status = status[0].get_text()\n",
        "        \n",
        "      rate = i.find_all(name = 'td', attrs = {'class': 'lbl rate'})\n",
        "      if len(rate) > 0:\n",
        "        rate = rate[0].get_text()\n",
        "        \n",
        "      listing = i.find_all(name = 'ul', attrs = {'class': 'listing-details'})\n",
        "      if len(listing) > 0:\n",
        "        listing = listing[0].get_text()\n",
        "      \n",
        "      real_estate= str(title)+' '+str(location)+' '+str(price)+ ' '+str(size)+ ' '+str(rate)+' '+str(status) #+ ' '+ str(listing) # can be changed ' ' to ',' \n",
        "      #print(real_estate)\n",
        "      scraped_makaan.append(real_estate)\n"
      ],
      "execution_count": 2,
      "outputs": []
    },
    {
      "cell_type": "code",
      "metadata": {
        "colab": {
          "base_uri": "https://localhost:8080/"
        },
        "id": "Caxd2yaMYSqm",
        "outputId": "9d55d10c-aad8-43f8-db69-14be2905f50c"
      },
      "source": [
        "scraped_makaan"
      ],
      "execution_count": 3,
      "outputs": [
        {
          "output_type": "execute_result",
          "data": {
            "text/plain": [
              "['2 BHK Apartment New Barrakpur, Kolkata  21.25 L 850  2,500 / sq ft Ready to move',\n",
              " '3 BHK Villa in Rajat Southern Vista Sonarpur, Kolkata  74 L 1408  5,255 / sq ft Under Construction',\n",
              " '2 BHK Apartment in Loharuka Urban Greens Phase II A Rajarhat, Kolkata  62.48 L 775  8,062 / sq ft Under Construction',\n",
              " '2 BHK Independent House in Fortune Fortune Township Barasat, Kolkata  43.99 L 1444  3,047 / sq ft Ready to move',\n",
              " '3 BHK Apartment in Salarpuria Amarana Residences Tangra, Kolkata  71.51 L 1337  5,348 / sq ft Under Construction',\n",
              " '3 BHK Apartment in Sugam Habitat Picnic Garden, Kolkata  72.37 L 1304  5,550 / sq ft Under Construction',\n",
              " '2 BHK Apartment in Eden City Group Eden City Maheshtala Maheshtala, Kolkata  23.9 L 771  3,100 / sq ft Under Construction',\n",
              " '2 BHK Villa in Gems Gems Bougainvillas Joka, Kolkata  55 L 1078  5,102 / sq ft Under Construction',\n",
              " '3 BHK Apartment in Kosmic North Grande Dum Dum, Kolkata  51.16 L 1312  3,900 / sq ft Under Construction',\n",
              " '3 BHK Apartment in Etha SU Casa Royal Narendrapur, Kolkata  42.76 L 1043  4,100 / sq ft Under Construction',\n",
              " '3 BHK Apartment in Ganguly 4 Sight Grand Castle Garia, Kolkata  93.63 L 1573  5,952 / sq ft Under Construction',\n",
              " '2 BHK Apartment in Merlin Gangotri Konnagar, Kolkata  27.01 L 608  4,443 / sq ft Under Construction',\n",
              " '4 BHK Apartment in Saltee Splendora Rajarhat, Kolkata  1.16 Cr 2406  4,850 / sq ft Under Construction',\n",
              " '3 BHK Apartment in GPS Meena Aurum Phase 2 Rajarhat, Kolkata  37.65 L 1141  3,300 / sq ft Under Construction',\n",
              " '3 BHK Apartment in Rishi Ventoso Madhyamgram, Kolkata  46.74 L 1189  3,931 / sq ft Under Construction',\n",
              " '2 BHK Apartment in JG Golden Heights Sonarpur, Kolkata  31.78 L 1059  3,001 / sq ft Under Construction',\n",
              " '2 BHK Apartment in Realtech Nirman Curiocity Classic New Town, Kolkata  44.38 L 736  6,030 / sq ft Under Construction',\n",
              " '3 BHK Apartment in Rishi Pranaya Phase I Rajarhat, Kolkata  62 L 934  6,638 / sq ft Under Construction',\n",
              " '2 BHK Independent House Bandel, Kolkata  30 L 1200  2,500 / sq ft Ready to move',\n",
              " '9 BHK Independent House south dum dum, Kolkata  2.5 Cr 6500  3,846 / sq ft Ready to move',\n",
              " '3 BHK Apartment Jagadishpur, Kolkata  55 L 1500  3,666 / sq ft Ready to move',\n",
              " '3 BHK Apartment south dum dum, Kolkata  45 L 1150  3,913 / sq ft Ready to move',\n",
              " '2 BHK Apartment Botanical Garden Area, Kolkata  31 L 821  3,775 / sq ft Ready to move',\n",
              " '3 BHK Apartment in Salarpuria Silver Oak Estate Prive Rajarhat, Kolkata  1.45 Cr 1512  9,589 / sq ft Ready to move',\n",
              " '3 BHK Apartment in Khadims Bidyakut Abasan Rajarhat, Kolkata  39.5 L 1120  3,526 / sq ft Ready to move',\n",
              " '5 BHK Independent House Ghosh Para, Kolkata  55 L 1750  3,142 / sq ft Ready to move',\n",
              " '3 BHK Apartment in Vishnu Primus Bhawanipur, Kolkata  1.15 Cr 1526  7,536 / sq ft Ready to move',\n",
              " '2 BHK Apartment Haltu, Kolkata  25 L 604  4,139 / sq ft Ready to move',\n",
              " '4 BHK Apartment Kasba, Kolkata  1.25 Cr 1640  7,621 / sq ft Ready to move',\n",
              " '2 BHK Apartment in Hiland Calcutta Riverside Bata Nagar, Kolkata  26 L 712  3,651 / sq ft Ready to move',\n",
              " '2 BHK Apartment Sodepur, Kolkata  18 L 780  2,307 / sq ft Ready to move',\n",
              " 'Residential Plot Sangareddy, Kolkata  18 L 1503  1,197 / sq ft Resale',\n",
              " '3 BHK Apartment New Barrakpur, Kolkata  25 L 940  2,659 / sq ft Ready to move',\n",
              " '1 BHK Apartment Sarsuna, Kolkata  17.9 L 900  1,988 / sq ft Ready to move',\n",
              " '5 BHK Independent House Nimta, Kolkata  70 L 2000  3,500 / sq ft Ready to move',\n",
              " '2 BHK Villa Baghajatin, Kolkata  19 L 552  3,442 / sq ft Ready to move',\n",
              " '2 BHK Apartment Santoshpur, Kolkata  55 L 995  5,527 / sq ft Ready to move',\n",
              " '3 BHK Apartment Garia, Kolkata  40 L 780  5,128 / sq ft Ready to move',\n",
              " '2 BHK Independent Floor Sodepur, Kolkata  22 L 807  2,726 / sq ft Ready to move',\n",
              " '2 BHK Apartment Keshtopur, Kolkata  31 L 874  3,546 / sq ft Ready to move',\n",
              " '2 BHK Independent Floor Regent Park, Kolkata  21 L 600  3,500 / sq ft Ready to move',\n",
              " '2 BHK Apartment Haltu, Kolkata  46 L 850  5,411 / sq ft Ready to move',\n",
              " '3 BHK Apartment in Simoco Sanhita Rajarhat, Kolkata  29 L 916  3,165 / sq ft Under Construction',\n",
              " '3 BHK Apartment in SG SGIL Gardenia Narendrapur, Kolkata  43 L 1100  3,909 / sq ft Ready to move',\n",
              " '3 BHK Apartment in Jain Dream Residency Manor Rajarhat, Kolkata  68 L 1340  5,074 / sq ft Ready to move',\n",
              " '2 BHK Apartment Maheshtala, Kolkata  28 L 712  3,932 / sq ft Ready to move',\n",
              " '3 BHK Apartment in Reputed Builder Barasat Barasat, Kolkata  48 L 1240  3,870 / sq ft Ready to move',\n",
              " '8 BHK Independent House Ballygunge, Kolkata  5 Cr 4000  12,500 / sq ft Ready to move',\n",
              " '3 BHK Apartment Entally, Kolkata  1.55 Cr 1600  9,687 / sq ft Ready to move',\n",
              " '2 BHK Independent Floor Shyam Bazar, Kolkata  55 L 850  6,470 / sq ft Ready to move',\n",
              " '2 BHK Apartment Ballygunge, Kolkata  65 L 750  8,666 / sq ft Ready to move',\n",
              " 'Residential Plot Golf Green, Kolkata  96 L 1506  6,374 / sq ft Resale',\n",
              " '2 BHK Apartment Garia, Kolkata  27 L 800  3,375 / sq ft Ready to move',\n",
              " '3 BHK Apartment in Siddha Water Front Barrackpore, Kolkata  40 L 970  4,123 / sq ft Ready to move',\n",
              " '3 BHK Apartment Dhakuria, Kolkata  1.05 Cr 1700  6,176 / sq ft Under Construction',\n",
              " '3 BHK Apartment in Mani Residency Topsia, Kolkata  2.3 Cr 3058  7,521 / sq ft Ready to move',\n",
              " '2 BHK Apartment Santragachi, Kolkata  27 L 900  3,000 / sq ft Under Construction',\n",
              " '3 BHK Apartment in Reputed Builder Dumdum plaza south dum dum, Kolkata  38 L 978  3,885 / sq ft Ready to move',\n",
              " '1 RK Studio Apartment Baguiati, Kolkata  12.5 L 365  3,424 / sq ft Ready to move',\n",
              " '2 BHK Apartment Salkia, Kolkata  30 L 700  4,285 / sq ft Ready to move',\n",
              " '3 BHK Apartment Barisha, Kolkata  32 L 984  3,252 / sq ft Ready to move',\n",
              " '2 BHK Apartment Gupta Colony, Kolkata  29 L 733  3,956 / sq ft Ready to move',\n",
              " '2 BHK Apartment North Dumdum, Kolkata  21 L 710  2,957 / sq ft Ready to move',\n",
              " '2 BHK Apartment Barisha Purba Para Road, Kolkata  28 L 850  3,294 / sq ft Ready to move',\n",
              " '3 BHK Apartment in Reputed Builder Prerna Apartment Garia, Kolkata  45 L 930  4,838 / sq ft Ready to move',\n",
              " 'Residential Plot Joka, Kolkata  2.1 L 1440  145 / sq ft Resale',\n",
              " '3 BHK Apartment in Merlin 5th Avenue Salt Lake City, Kolkata  1.6 Cr 1960  8,163 / sq ft Ready to move',\n",
              " '2 BHK Apartment in Bengal Greenfield Elegance New Town, Kolkata  45 L 916  4,912 / sq ft Ready to move',\n",
              " '2 BHK Apartment south dum dum, Kolkata  24 L 840  2,857 / sq ft Ready to move',\n",
              " '3 BHK Independent House Mali Panchghara, Kolkata  63.25 L 1245  5,080 / sq ft Ready to move',\n",
              " '3 BHK Apartment Belghoria, Kolkata  30 L 999  3,003 / sq ft Ready to move',\n",
              " '2 BHK Apartment Haltu, Kolkata  36 L 744  4,838 / sq ft Ready to move',\n",
              " '3 BHK Apartment in Magnolia Prestige New Town, Kolkata  34 L 1274  2,668 / sq ft Ready to move',\n",
              " '2 BHK Apartment in Oswal Orchard 126 Kamarhati on BT Road, Kolkata  52 L 1040  5,000 / sq ft Ready to move',\n",
              " '5 BHK Independent House Baguiati, Kolkata  2.55 Cr 3600  7,083 / sq ft Ready to move',\n",
              " '3 BHK Apartment in Prudent Prana Narendrapur, Kolkata  42 L 1082  3,881 / sq ft Ready to move',\n",
              " '3 BHK Apartment Paikpara, Kolkata  76 L 1105  6,877 / sq ft Ready to move',\n",
              " '5 BHK Apartment Baranagar, Kolkata  89 L 2400  3,708 / sq ft Ready to move',\n",
              " '3 BHK Apartment in Siddha Happyville Rajarhat, Kolkata  65 L 1395  4,659 / sq ft Ready to move',\n",
              " 'Residential Plot Khardah, Kolkata  20 L 736  2,717 / sq ft Resale',\n",
              " '3 BHK Apartment Bansdroni, Kolkata  35 L 975  3,589 / sq ft Ready to move',\n",
              " '2 BHK Apartment Serampore, Kolkata  17.9 L 732  2,445 / sq ft Ready to move',\n",
              " '2 BHK Independent Floor Kaikhali, Kolkata  20 L 500  4,000 / sq ft Ready to move',\n",
              " '2 BHK Apartment in Happy Sunshine Happy Sunshine 96 1 3 Shibpur Road Alipore, Kolkata  13.8 L 600  2,300 / sq ft Ready to move',\n",
              " '3 BHK Apartment New Town, Kolkata  58 L 1335  4,344 / sq ft Ready to move',\n",
              " '2 BHK Independent Floor Garfa, Kolkata  25 L 815  3,067 / sq ft Ready to move',\n",
              " '2 BHK Apartment New Barrakpur, Kolkata  30 L 950  3,157 / sq ft Ready to move',\n",
              " '2 BHK Villa Noapara, Kolkata  29.5 L 1015  2,906 / sq ft Under Construction',\n",
              " '2 BHK Apartment in Sai City Uttarpara Kotrung, Kolkata  21.57 L 719  3,000 / sq ft Ready to move',\n",
              " '1 BHK Apartment Garfa, Kolkata  13.5 L 500  2,700 / sq ft Ready to move',\n",
              " '2 BHK Independent Floor Jagadishpur, Kolkata  30 L 1033  2,904 / sq ft Ready to move',\n",
              " '3 BHK Independent House Bansdroni, Kolkata  55 L 1000  5,500 / sq ft Ready to move',\n",
              " '2 BHK Apartment Sodepur, Kolkata  19 L 712  2,668 / sq ft Ready to move',\n",
              " '3 BHK Apartment in Symphony Symphony Towers Behala, Kolkata  75 L 1183  6,339 / sq ft Ready to move',\n",
              " '2 BHK Apartment Bijoygarh, Kolkata  25 L 610  4,098 / sq ft Ready to move',\n",
              " '3 BHK Apartment Kaikhali, Kolkata  50 L 1540  3,246 / sq ft Ready to move',\n",
              " '3 BHK Independent Floor Sant Nagar, Kolkata  1.3 Cr 2500  5,200 / sq ft Under Construction',\n",
              " '3 BHK Apartment Shibpur, Kolkata  42 L 950  4,421 / sq ft Ready to move',\n",
              " '3 BHK Apartment in Siddha Suburbia Narendrapur, Kolkata  44.5 L 1211  3,674 / sq ft Under Construction',\n",
              " '3 BHK Apartment in N M Residency Rajarhat, Kolkata  37.91 L 1354  2,800 / sq ft Ready to move',\n",
              " '4 BHK Villa in Rajat Southern Vista Sonarpur, Kolkata  95 L 1664  5,709 / sq ft Under Construction',\n",
              " '4 BHK Villa in Rajat Southern Vista Sonarpur, Kolkata  86 L 1631  5,272 / sq ft Under Construction',\n",
              " '4 BHK Villa in Rajat Southern Vista Sonarpur, Kolkata  1.04 Cr 1975  5,265 / sq ft Under Construction',\n",
              " '3 BHK Villa in Rajat Southern Vista Sonarpur, Kolkata  88 L 1475  5,966 / sq ft Under Construction',\n",
              " '4 BHK Villa in Rajat Southern Vista Sonarpur, Kolkata  1.15 Cr 2000  5,750 / sq ft Under Construction',\n",
              " '3 BHK Villa in Rajat Southern Vista Sonarpur, Kolkata  77 L 1458  5,281 / sq ft Under Construction',\n",
              " '3 BHK Apartment in Loharuka Urban Greens Phase II A Rajarhat, Kolkata  69 L 871  7,921 / sq ft Under Construction',\n",
              " '3 BHK Apartment in Loharuka Urban Greens Phase II A Rajarhat, Kolkata  83.65 L 1056  7,921 / sq ft Under Construction',\n",
              " '2 BHK Apartment in Loharuka Urban Greens Phase II A Rajarhat, Kolkata  57 L 707  8,062 / sq ft Under Construction',\n",
              " '3 BHK Apartment in Loharuka Urban Greens Phase II A Rajarhat, Kolkata  86.77 L 1118  7,761 / sq ft Under Construction',\n",
              " '3 BHK Apartment in Loharuka Urban Greens Phase II A Rajarhat, Kolkata  81.35 L 1027  7,921 / sq ft Under Construction',\n",
              " '2 BHK Apartment in Loharuka Urban Greens Phase II A Rajarhat, Kolkata  59.09 L 733  8,062 / sq ft Under Construction',\n",
              " '3 BHK Apartment in Loharuka Urban Greens Phase II A Rajarhat, Kolkata  85.31 L 1077  7,921 / sq ft Under Construction',\n",
              " '2 BHK Apartment in Loharuka Urban Greens Phase II A Rajarhat, Kolkata  63.28 L 785  8,062 / sq ft Under Construction',\n",
              " '2 BHK Apartment in Loharuka Urban Greens Phase II A Rajarhat, Kolkata  57.88 L 718  8,062 / sq ft Under Construction',\n",
              " '2 BHK Apartment in Loharuka Urban Greens Phase II A Rajarhat, Kolkata  63 L 825  7,636 / sq ft Under Construction',\n",
              " '3 BHK Apartment in Loharuka Urban Greens Phase II A Rajarhat, Kolkata  72.96 L 921  7,921 / sq ft Under Construction',\n",
              " '3 BHK Apartment in Loharuka Urban Greens Phase II A Rajarhat, Kolkata  73.11 L 923  7,921 / sq ft Under Construction',\n",
              " '3 BHK Apartment in Loharuka Urban Greens Phase II A Rajarhat, Kolkata  74.86 L 945  7,921 / sq ft Under Construction',\n",
              " '2 BHK Apartment in Loharuka Urban Greens Phase II A Rajarhat, Kolkata  63.12 L 783  8,062 / sq ft Under Construction',\n",
              " '2 BHK Apartment in Loharuka Urban Greens Phase II A Rajarhat, Kolkata  60.38 L 749  8,062 / sq ft Under Construction',\n",
              " '3 BHK Apartment in Loharuka Urban Greens Phase II A Rajarhat, Kolkata  75.09 L 948  7,921 / sq ft Under Construction',\n",
              " '3 BHK Apartment in Fortune Fortune Township Barasat, Kolkata  33.49 L 1046  3,202 / sq ft Ready to move',\n",
              " '3 BHK Apartment in Fortune Fortune Township Barasat, Kolkata  34.99 L 1319  2,653 / sq ft Ready to move',\n",
              " '3 BHK Apartment in Fortune Fortune Township Barasat, Kolkata  39 L 1304  2,991 / sq ft Ready to move',\n",
              " '3 BHK Apartment in Fortune Fortune Township Barasat, Kolkata  36.99 L 1228  3,013 / sq ft Ready to move',\n",
              " '2 BHK Apartment in Fortune Fortune Township Barasat, Kolkata  34.5 L 1037  3,327 / sq ft Ready to move',\n",
              " '2 BHK Apartment in Fortune Fortune Township Barasat, Kolkata  26.5 L 863  3,071 / sq ft Ready to move',\n",
              " '2 BHK Apartment in Fortune Fortune Township Barasat, Kolkata  30 L 1018  2,947 / sq ft Ready to move',\n",
              " '2 BHK Apartment in Fortune Fortune Township Barasat, Kolkata  39.99 L 1220  3,278 / sq ft Ready to move',\n",
              " '2 BHK Apartment in Fortune Fortune Township Barasat, Kolkata  32 L 1059  3,022 / sq ft Ready to move',\n",
              " '3 BHK Apartment in Fortune Fortune Township Barasat, Kolkata  53.99 L 1851  2,917 / sq ft Ready to move',\n",
              " '3 BHK Apartment in Fortune Fortune Township Barasat, Kolkata  46.49 L 1520  3,059 / sq ft Ready to move',\n",
              " '2 BHK Apartment in Fortune Fortune Township Barasat, Kolkata  35.99 L 1082  3,327 / sq ft Ready to move',\n",
              " '2 BHK Apartment in Fortune Fortune Township Barasat, Kolkata  41.99 L 1520  2,763 / sq ft Ready to move',\n",
              " '2 BHK Independent House in Fortune Fortune Township Barasat, Kolkata  39 L 1200  3,250 / sq ft Ready to move',\n",
              " '3 BHK Apartment in Fortune Fortune Township Barasat, Kolkata  42.99 L 1400  3,071 / sq ft Ready to move',\n",
              " '2 BHK Apartment in Fortune Heights Barasat, Kolkata  24.99 L 705  3,546 / sq ft Under Construction',\n",
              " '2 BHK Apartment in Fortune Heights Barasat, Kolkata  34.99 L 966  3,623 / sq ft Under Construction',\n",
              " '3 BHK Apartment in Fortune Heights Barasat, Kolkata  31.99 L 893  3,583 / sq ft Under Construction',\n",
              " '2 BHK Apartment in Fortune Heights Barasat, Kolkata  37 L 906  4,084 / sq ft Under Construction',\n",
              " '3 BHK Apartment in Fortune Heights Barasat, Kolkata  40 L 1295  3,089 / sq ft Under Construction',\n",
              " '2 BHK Apartment in Fortune Heights Barasat, Kolkata  28.99 L 887  3,269 / sq ft Under Construction',\n",
              " '2 BHK Apartment in Salarpuria Amarana Residences Tangra, Kolkata  51.16 L 993  5,152 / sq ft Under Construction',\n",
              " '2 BHK Apartment in Salarpuria Amarana Residences Tangra, Kolkata  47.92 L 931  5,147 / sq ft Under Construction',\n",
              " '3 BHK Apartment in Sugam Habitat Picnic Garden, Kolkata  91.07 L 1641  5,550 / sq ft Under Construction',\n",
              " '3 BHK Apartment in Sugam Habitat Picnic Garden, Kolkata  74.75 L 1347  5,550 / sq ft Under Construction',\n",
              " '3 BHK Apartment in Sugam Habitat Picnic Garden, Kolkata  87.91 L 1584  5,550 / sq ft Under Construction',\n",
              " '3 BHK Apartment in Sugam Habitat Picnic Garden, Kolkata  75.31 L 1421  5,300 / sq ft Under Construction',\n",
              " '3 BHK Apartment in Sugam Habitat Picnic Garden, Kolkata  88.35 L 1592  5,550 / sq ft Under Construction',\n",
              " '3 BHK Apartment in Sugam Habitat Picnic Garden, Kolkata  88.63 L 1597  5,550 / sq ft Under Construction',\n",
              " '3 BHK Apartment in Sugam Habitat Picnic Garden, Kolkata  88.83 L 1316  6,750 / sq ft Under Construction',\n",
              " '3 BHK Apartment in Sugam Habitat Picnic Garden, Kolkata  73.4 L 1385  5,300 / sq ft Under Construction',\n",
              " '4 BHK Apartment in Sugam Habitat Picnic Garden, Kolkata  1.04 Cr 1975  5,300 / sq ft Under Construction',\n",
              " '3 BHK Apartment in Sugam Habitat Picnic Garden, Kolkata  1.08 Cr 1600  6,750 / sq ft Under Construction',\n",
              " '3 BHK Apartment in Sugam Habitat Picnic Garden, Kolkata  79.53 L 1433  5,550 / sq ft Under Construction',\n",
              " '3 BHK Apartment in Eden City Group Eden City Maheshtala Maheshtala, Kolkata  45.72 L 1524  3,000 / sq ft Under Construction',\n",
              " '4 BHK Villa in Gems Gems Bougainvillas Joka, Kolkata  85 L 1493  5,693 / sq ft Under Construction',\n",
              " '4 BHK Villa in Gems Gems Bougainvillas Joka, Kolkata  75 L 1356  5,530 / sq ft Under Construction',\n",
              " '3 BHK Villa in Gems Gems Bougainvillas Joka, Kolkata  44.9 L 1055  4,255 / sq ft Under Construction',\n",
              " '3 BHK Villa in Gems Gems Bougainvillas Joka, Kolkata  50 L 959  5,213 / sq ft Under Construction',\n",
              " '2 BHK Villa in Gems Gems Bougainvillas Joka, Kolkata  40 L 845  4,733 / sq ft Under Construction',\n",
              " '3 BHK Villa in Gems Gems Bougainvillas Joka, Kolkata  65 L 1203  5,403 / sq ft Under Construction',\n",
              " '3 BHK Apartment in Kosmic North Grande Dum Dum, Kolkata  74.21 L 1903  3,900 / sq ft Under Construction',\n",
              " '2 BHK Apartment in Kosmic North Grande Dum Dum, Kolkata  39.85 L 1022  3,900 / sq ft Under Construction',\n",
              " '4 BHK Apartment in Kosmic North Grande Dum Dum, Kolkata  90.12 L 2311  3,900 / sq ft Under Construction',\n",
              " '3 BHK Apartment in Kosmic North Grande Dum Dum, Kolkata  48 L 1231  3,900 / sq ft Under Construction',\n",
              " '3 BHK Villa in Gems City Villa Joka, Kolkata  45 L 885  5,084 / sq ft Under Construction',\n",
              " '3 BHK Villa in Gems City Villa Joka, Kolkata  45 L 947  4,751 / sq ft Under Construction',\n",
              " '4 BHK Villa in Gems City Villa Joka, Kolkata  67.5 L 1409  4,790 / sq ft Under Construction',\n",
              " '2 BHK Apartment in Gems City Uttar Gauripur, Kolkata  19.35 L 697  2,777 / sq ft Under Construction',\n",
              " '1 BHK Apartment in Gems City Uttar Gauripur, Kolkata  12.69 L 457  2,777 / sq ft Under Construction',\n",
              " '2 BHK Apartment in Gems City Uttar Gauripur, Kolkata  21.16 L 762  2,777 / sq ft Under Construction',\n",
              " '2 BHK Apartment in Gems City Uttar Gauripur, Kolkata  21.1 L 760  2,777 / sq ft Under Construction',\n",
              " '3 BHK Apartment in Gems City Uttar Gauripur, Kolkata  23.96 L 863  2,777 / sq ft Under Construction',\n",
              " '3 BHK Apartment in Gems City Uttar Gauripur, Kolkata  25.38 L 931  2,727 / sq ft Under Construction',\n",
              " '3 BHK Apartment in Gems City Uttar Gauripur, Kolkata  23.66 L 852  2,777 / sq ft Under Construction',\n",
              " '3 BHK Apartment in Gems City Uttar Gauripur, Kolkata  22.33 L 819  2,726 / sq ft Under Construction',\n",
              " '1 BHK Apartment in Gems City Uttar Gauripur, Kolkata  12 L 403  2,977 / sq ft Under Construction',\n",
              " '2 BHK Apartment in Gems City Uttar Gauripur, Kolkata  20.88 L 752  2,777 / sq ft Under Construction',\n",
              " '2 BHK Apartment in Gems City Uttar Gauripur, Kolkata  21.57 L 791  2,727 / sq ft Under Construction',\n",
              " '2 BHK Apartment in Gems City Uttar Gauripur, Kolkata  18.46 L 677  2,727 / sq ft Under Construction',\n",
              " '3 BHK Apartment in Gems City Uttar Gauripur, Kolkata  25.38 L 914  2,777 / sq ft Under Construction',\n",
              " '2 BHK Apartment in Gems City Uttar Gauripur, Kolkata  22.19 L 814  2,727 / sq ft Under Construction',\n",
              " '1 BHK Apartment in Gems City Uttar Gauripur, Kolkata  14.04 L 515  2,727 / sq ft Under Construction',\n",
              " '2 BHK Apartment in Gems City Uttar Gauripur, Kolkata  17.67 L 648  2,726 / sq ft Under Construction',\n",
              " '4 BHK Apartment in Sugam Morya Tollygunge, Kolkata  1.82 Cr 1791  10,205 / sq ft Under Construction',\n",
              " '4 BHK Apartment in Sugam Morya Tollygunge, Kolkata  1.73 Cr 1786  9,698 / sq ft Under Construction',\n",
              " '4 BHK Apartment in Sugam Morya Tollygunge, Kolkata  1.81 Cr 1780  10,207 / sq ft Under Construction',\n",
              " '4 BHK Apartment in Sugam Morya Tollygunge, Kolkata  1.81 Cr 1774  10,209 / sq ft Under Construction',\n",
              " '4 BHK Apartment in Sugam Morya Tollygunge, Kolkata  1.81 Cr 1773  10,209 / sq ft Under Construction',\n",
              " '3 BHK Apartment in Sugam Morya Tollygunge, Kolkata  1.14 Cr 1101  10,421 / sq ft Under Construction',\n",
              " '3 BHK Apartment in Sugam Morya Tollygunge, Kolkata  1.14 Cr 1100  10,421 / sq ft Under Construction',\n",
              " '3 BHK Apartment in Sugam Morya Tollygunge, Kolkata  1.08 Cr 1038  10,455 / sq ft Under Construction',\n",
              " '3 BHK Apartment in Sugam Morya Tollygunge, Kolkata  1.08 Cr 1036  10,456 / sq ft Under Construction',\n",
              " '3 BHK Apartment in Etha SU Casa Royal Narendrapur, Kolkata  49.65 L 1211  4,100 / sq ft Under Construction',\n",
              " '2 BHK Apartment in Etha SU Casa Royal Narendrapur, Kolkata  36.53 L 891  4,100 / sq ft Under Construction',\n",
              " '3 BHK Apartment in Etha SU Casa Royal Narendrapur, Kolkata  48.66 L 1187  4,100 / sq ft Under Construction',\n",
              " '3 BHK Apartment in Etha SU Casa Royal Narendrapur, Kolkata  66.21 L 1615  4,100 / sq ft Under Construction',\n",
              " '2 BHK Apartment in Etha SU Casa Royal Narendrapur, Kolkata  35.71 L 871  4,100 / sq ft Under Construction']"
            ]
          },
          "metadata": {
            "tags": []
          },
          "execution_count": 3
        }
      ]
    },
    {
      "cell_type": "code",
      "metadata": {
        "colab": {
          "base_uri": "https://localhost:8080/"
        },
        "id": "0Qib0zGmlwn0",
        "outputId": "334b0046-cf69-461c-f762-7c64da7ec93c"
      },
      "source": [
        "len(scraped_makaan)"
      ],
      "execution_count": null,
      "outputs": [
        {
          "output_type": "execute_result",
          "data": {
            "text/plain": [
              "200"
            ]
          },
          "metadata": {
            "tags": []
          },
          "execution_count": 98
        }
      ]
    },
    {
      "cell_type": "markdown",
      "metadata": {
        "id": "pUeSL-mDSC5o"
      },
      "source": [
        "# Approach 2"
      ]
    },
    {
      "cell_type": "markdown",
      "metadata": {
        "id": "fTHsZHodQpsf"
      },
      "source": [
        "Improving the code block for individual information fetching instead of a long string"
      ]
    },
    {
      "cell_type": "code",
      "metadata": {
        "id": "7vcW2t3ySaY4"
      },
      "source": [
        "#Loop to go over pages\n",
        "pages = np.arange(1, 2, 1) # to get 200 reviews\n",
        "\n",
        "BHK = {'BHK':[]}\n",
        "LOCALITY = {'Locality' : []}\n",
        "PRICE = {'Price' : []}\n",
        "UNIT= {'Price_unit': []}\n",
        "SIZE= {'Area_sqft' : []}\n",
        "STATUS= {'Status' : []}\n",
        "RATE= {'Rate' : []}\n",
        "LISTING= {'Listing' : []}\n",
        "\n",
        "\n",
        "for page in pages:\n",
        "    page=\"https://www.makaan.com/kolkata-residential-property/buy-property-in-kolkata-city?page=\" + str(page)\n",
        "    r = Request(page, headers={'User-Agent': 'Mozilla/5.0'})\n",
        "    response = urlopen(r).read().decode('utf-8')\n",
        "    f = requests.get(page)\n",
        "    soup= BeautifulSoup(response,'html')\n",
        "    my_table = soup.find_all(name = 'li', attrs = {'class': 'cardholder'})\n",
        "\n",
        "    for i in my_table:\n",
        "      \n",
        "      bhk = i.find(name='span', attrs = {'class': 'val'})\n",
        "      if len(bhk) > 0:\n",
        "        bhk = int(str(bhk.get_text()))\n",
        "      BHK['BHK'].append(bhk)\n",
        "      \n",
        "      \n",
        "      locality = i.find_all(name = 'span', attrs = {'itemprop': 'addressLocality'})\n",
        "      if len(locality) > 0:\n",
        "        locality = locality[0].get_text()\n",
        "      LOCALITY['Locality'].append(locality)\n",
        "      \n",
        "      \n",
        "      price = i.find_all(name = 'span', attrs = {'itemprop': 'offers'})\n",
        "      if len(price) > 0:\n",
        "        price = float(str(price[0].get_text()))  #float(str()) to remove '' in every non string price values\n",
        "      PRICE['Price'].append(price)\n",
        "      \n",
        "      \n",
        "      unit = i.find_all(name = 'span', attrs = {'class': 'unit'})\n",
        "      if len(unit) > 0:\n",
        "        unit = unit[0].get_text()\n",
        "      UNIT['Price_unit'].append(unit)\n",
        "      \n",
        "      \n",
        "      size = i.find_all(name = 'td', attrs = {'class': 'size'})\n",
        "      if len(size) > 0:\n",
        "        size = int(str(size[0].get_text()))\n",
        "      SIZE['Area_sqft'].append(size)\n",
        "\n",
        "\n",
        "      status = i.find_all(name = 'td', attrs = {'class': 'val'})\n",
        "      if len(status) > 0:\n",
        "        status = status[0].get_text()\n",
        "      STATUS['Status'].append(status)\n",
        "\n",
        "      rate = i.find_all(name = 'td', attrs = {'class': 'lbl rate'})\n",
        "      if len(rate) > 0:\n",
        "        rate = rate[0].get_text()\n",
        "        rate= rate.replace(',','')\n",
        "        int_rate= [int(s) for s in rate.split() if s.isdigit()]\n",
        "        res = int(str(int_rate)[1:-1])  # Remove square brackets from list using str() + list slicing\n",
        "      RATE['Rate'].append(res)\n",
        "\n",
        "      listing = i.find_all(name = 'ul', attrs = {'class': 'listing-details'})\n",
        "      if len(listing) > 0:\n",
        "        listing = listing[0].get_text()\n",
        "      LISTING['Listing'].append(listing)\n"
      ],
      "execution_count": 140,
      "outputs": []
    },
    {
      "cell_type": "code",
      "metadata": {
        "colab": {
          "base_uri": "https://localhost:8080/"
        },
        "id": "kBU8PwZDIm_3",
        "outputId": "2eca4321-f76b-4794-aa27-bd1f6486aa50"
      },
      "source": [
        "BHK"
      ],
      "execution_count": 141,
      "outputs": [
        {
          "output_type": "execute_result",
          "data": {
            "text/plain": [
              "{'BHK': [2, 3, 2, 2, 3, 3, 2, 2, 3, 3, 3, 2, 4, 3, 3, 2, 2, 3, 2, 9]}"
            ]
          },
          "metadata": {
            "tags": []
          },
          "execution_count": 141
        }
      ]
    },
    {
      "cell_type": "code",
      "metadata": {
        "colab": {
          "base_uri": "https://localhost:8080/"
        },
        "id": "L-GKqa0e_3O8",
        "outputId": "f5b04839-f956-4fd6-e618-4357a1b7fd81"
      },
      "source": [
        "SIZE"
      ],
      "execution_count": 114,
      "outputs": [
        {
          "output_type": "execute_result",
          "data": {
            "text/plain": [
              "{'Area_sqft': [850,\n",
              "  1408,\n",
              "  775,\n",
              "  1444,\n",
              "  1337,\n",
              "  1304,\n",
              "  771,\n",
              "  1078,\n",
              "  1312,\n",
              "  1043,\n",
              "  1573,\n",
              "  608,\n",
              "  2406,\n",
              "  1141,\n",
              "  1189,\n",
              "  1059,\n",
              "  736,\n",
              "  934,\n",
              "  1200,\n",
              "  6500]}"
            ]
          },
          "metadata": {
            "tags": []
          },
          "execution_count": 114
        }
      ]
    },
    {
      "cell_type": "markdown",
      "metadata": {
        "id": "SUFLsoNTSKvX"
      },
      "source": [
        "# Approach 3"
      ]
    },
    {
      "cell_type": "markdown",
      "metadata": {
        "id": "LG9FqIsBRHEF"
      },
      "source": [
        "Making dataframe with individual information to get a comprehensive picture of the real estate plots in Kolkata"
      ]
    },
    {
      "cell_type": "code",
      "metadata": {
        "colab": {
          "base_uri": "https://localhost:8080/",
          "height": 436
        },
        "id": "PvKOkwLl_na8",
        "outputId": "f2504470-7a83-4db0-f8b1-933939671883"
      },
      "source": [
        "#Loop to go over pages\n",
        "pages = np.arange(1, (int(input('Scrape till page no: '))+1), 1) # to get custom number of  reviews , user input no. of pages ,+1 as python considers 0th value as 1\n",
        "BHK = []  #creating empty list for appending values\n",
        "LOCALITY = []\n",
        "PRICE = []\n",
        "UNIT = []\n",
        "SIZE = []\n",
        "STATUS = []\n",
        "RATE = []\n",
        "LISTING = []\n",
        "\n",
        "\n",
        "for page in pages:\n",
        "    page=\"https://www.makaan.com/kolkata-residential-property/buy-property-in-kolkata-city?page=\" + str(page)\n",
        "    r = Request(page, headers={'User-Agent': 'Mozilla/5.0'})\n",
        "    response = urlopen(r).read().decode('utf-8')\n",
        "    f = requests.get(page)\n",
        "    soup= BeautifulSoup(response,'html')\n",
        "    my_table = soup.find_all(name = 'li', attrs = {'class': 'cardholder'})\n",
        "\n",
        "\n",
        "\n",
        "    for i in my_table:\n",
        "      \n",
        "      bhk = i.find(name = 'span', attrs = {'class': 'val'})\n",
        "      if len(bhk) > 0:\n",
        "        bhk = float(str(bhk.get_text()))  #float(str()) to remove '' in every non string BHK values\n",
        "      BHK.append(bhk)\n",
        "      \n",
        "      \n",
        "      locality = i.find_all(name = 'span', attrs = {'itemprop': 'addressLocality'})\n",
        "      if len(locality) > 0:\n",
        "        locality = locality[0].get_text()\n",
        "      LOCALITY.append(locality)\n",
        "      \n",
        "      \n",
        "      price = i.find(name = 'span', attrs = {'itemprop': 'offers'})\n",
        "      if len(price) > 0:\n",
        "        price = float(str(price.get_text()))  #float(str()) to remove '' in every non string price values\n",
        "      PRICE.append(price)\n",
        "      \n",
        "      \n",
        "      unit = i.find_all(name = 'span', attrs = {'class': 'unit'})\n",
        "      if len(unit) > 0:\n",
        "        unit = unit[0].get_text()\n",
        "      UNIT.append(unit)\n",
        "      \n",
        "      \n",
        "      size = i.find_all(name = 'td', attrs = {'class': 'size'})\n",
        "      if len(size) > 0:\n",
        "        size = int(str(size[0].get_text()))\n",
        "      SIZE.append(size)\n",
        "\n",
        "\n",
        "      status = i.find_all(name = 'td', attrs = {'class': 'val'})\n",
        "      if len(status) > 0:\n",
        "        status = status[0].get_text()\n",
        "      STATUS.append(status)\n",
        "\n",
        "      \n",
        "      rate = i.find_all(name = 'td', attrs = {'class': 'lbl rate'})\n",
        "      if len(rate) > 0:\n",
        "        rate = rate[0].get_text()\n",
        "        rate= rate.replace(',','')\n",
        "        int_rate= [int(s) for s in rate.split() if s.isdigit()]\n",
        "        res = int(str(int_rate)[1:-1])  # Remove square brackets from list using str() + list slicing\n",
        "      RATE.append(res)\n",
        "\n",
        "\n",
        "      listing = i.find_all(name = 'ul', attrs = {'class': 'listing-details'})\n",
        "      if len(listing) > 0:\n",
        "        listing = listing[0].get_text()\n",
        "      LISTING.append(listing)\n",
        "\n",
        "\n",
        "df = pd.DataFrame({'BHK' :BHK, 'Locality' :LOCALITY , 'Price' :PRICE, 'Price_unit' :UNIT ,\n",
        "                   'Area_sqft':SIZE,'Rate':RATE,  'Status':STATUS })\n",
        "\n",
        "df"
      ],
      "execution_count": 297,
      "outputs": [
        {
          "output_type": "stream",
          "text": [
            "Scrape till page no: 50\n"
          ],
          "name": "stdout"
        },
        {
          "output_type": "execute_result",
          "data": {
            "text/html": [
              "<div>\n",
              "<style scoped>\n",
              "    .dataframe tbody tr th:only-of-type {\n",
              "        vertical-align: middle;\n",
              "    }\n",
              "\n",
              "    .dataframe tbody tr th {\n",
              "        vertical-align: top;\n",
              "    }\n",
              "\n",
              "    .dataframe thead th {\n",
              "        text-align: right;\n",
              "    }\n",
              "</style>\n",
              "<table border=\"1\" class=\"dataframe\">\n",
              "  <thead>\n",
              "    <tr style=\"text-align: right;\">\n",
              "      <th></th>\n",
              "      <th>BHK</th>\n",
              "      <th>Locality</th>\n",
              "      <th>Price</th>\n",
              "      <th>Price_unit</th>\n",
              "      <th>Area_sqft</th>\n",
              "      <th>Rate</th>\n",
              "      <th>Status</th>\n",
              "    </tr>\n",
              "  </thead>\n",
              "  <tbody>\n",
              "    <tr>\n",
              "      <th>0</th>\n",
              "      <td>2.0</td>\n",
              "      <td>New Barrakpur</td>\n",
              "      <td>21.25</td>\n",
              "      <td>L</td>\n",
              "      <td>850</td>\n",
              "      <td>2500</td>\n",
              "      <td>Ready to move</td>\n",
              "    </tr>\n",
              "    <tr>\n",
              "      <th>1</th>\n",
              "      <td>3.0</td>\n",
              "      <td>Sonarpur</td>\n",
              "      <td>74.00</td>\n",
              "      <td>L</td>\n",
              "      <td>1408</td>\n",
              "      <td>5255</td>\n",
              "      <td>Under Construction</td>\n",
              "    </tr>\n",
              "    <tr>\n",
              "      <th>2</th>\n",
              "      <td>2.0</td>\n",
              "      <td>Rajarhat</td>\n",
              "      <td>62.48</td>\n",
              "      <td>L</td>\n",
              "      <td>775</td>\n",
              "      <td>8062</td>\n",
              "      <td>Under Construction</td>\n",
              "    </tr>\n",
              "    <tr>\n",
              "      <th>3</th>\n",
              "      <td>2.0</td>\n",
              "      <td>Barasat</td>\n",
              "      <td>43.99</td>\n",
              "      <td>L</td>\n",
              "      <td>1444</td>\n",
              "      <td>3047</td>\n",
              "      <td>Ready to move</td>\n",
              "    </tr>\n",
              "    <tr>\n",
              "      <th>4</th>\n",
              "      <td>3.0</td>\n",
              "      <td>Tangra</td>\n",
              "      <td>71.51</td>\n",
              "      <td>L</td>\n",
              "      <td>1337</td>\n",
              "      <td>5348</td>\n",
              "      <td>Under Construction</td>\n",
              "    </tr>\n",
              "    <tr>\n",
              "      <th>...</th>\n",
              "      <td>...</td>\n",
              "      <td>...</td>\n",
              "      <td>...</td>\n",
              "      <td>...</td>\n",
              "      <td>...</td>\n",
              "      <td>...</td>\n",
              "      <td>...</td>\n",
              "    </tr>\n",
              "    <tr>\n",
              "      <th>995</th>\n",
              "      <td>2.0</td>\n",
              "      <td>Garia</td>\n",
              "      <td>24.00</td>\n",
              "      <td>L</td>\n",
              "      <td>720</td>\n",
              "      <td>3333</td>\n",
              "      <td>Ready to move</td>\n",
              "    </tr>\n",
              "    <tr>\n",
              "      <th>996</th>\n",
              "      <td>2.0</td>\n",
              "      <td>Garia</td>\n",
              "      <td>24.00</td>\n",
              "      <td>L</td>\n",
              "      <td>720</td>\n",
              "      <td>3333</td>\n",
              "      <td>Ready to move</td>\n",
              "    </tr>\n",
              "    <tr>\n",
              "      <th>997</th>\n",
              "      <td>2.0</td>\n",
              "      <td>Garia</td>\n",
              "      <td>25.00</td>\n",
              "      <td>L</td>\n",
              "      <td>720</td>\n",
              "      <td>3472</td>\n",
              "      <td>Ready to move</td>\n",
              "    </tr>\n",
              "    <tr>\n",
              "      <th>998</th>\n",
              "      <td>2.0</td>\n",
              "      <td>Garia</td>\n",
              "      <td>25.00</td>\n",
              "      <td>L</td>\n",
              "      <td>720</td>\n",
              "      <td>3472</td>\n",
              "      <td>Ready to move</td>\n",
              "    </tr>\n",
              "    <tr>\n",
              "      <th>999</th>\n",
              "      <td>2.0</td>\n",
              "      <td>Garia</td>\n",
              "      <td>25.00</td>\n",
              "      <td>L</td>\n",
              "      <td>720</td>\n",
              "      <td>3472</td>\n",
              "      <td>Ready to move</td>\n",
              "    </tr>\n",
              "  </tbody>\n",
              "</table>\n",
              "<p>1000 rows × 7 columns</p>\n",
              "</div>"
            ],
            "text/plain": [
              "     BHK       Locality  Price Price_unit  Area_sqft  Rate              Status\n",
              "0    2.0  New Barrakpur  21.25          L        850  2500       Ready to move\n",
              "1    3.0       Sonarpur  74.00          L       1408  5255  Under Construction\n",
              "2    2.0       Rajarhat  62.48          L        775  8062  Under Construction\n",
              "3    2.0        Barasat  43.99          L       1444  3047       Ready to move\n",
              "4    3.0         Tangra  71.51          L       1337  5348  Under Construction\n",
              "..   ...            ...    ...        ...        ...   ...                 ...\n",
              "995  2.0          Garia  24.00          L        720  3333       Ready to move\n",
              "996  2.0          Garia  24.00          L        720  3333       Ready to move\n",
              "997  2.0          Garia  25.00          L        720  3472       Ready to move\n",
              "998  2.0          Garia  25.00          L        720  3472       Ready to move\n",
              "999  2.0          Garia  25.00          L        720  3472       Ready to move\n",
              "\n",
              "[1000 rows x 7 columns]"
            ]
          },
          "metadata": {
            "tags": []
          },
          "execution_count": 297
        }
      ]
    },
    {
      "cell_type": "markdown",
      "metadata": {
        "id": "ZPN8W39EQDpq"
      },
      "source": [
        "# EDA & Data Wrangling"
      ]
    },
    {
      "cell_type": "code",
      "metadata": {
        "colab": {
          "base_uri": "https://localhost:8080/"
        },
        "id": "PFxY04xYSd7A",
        "outputId": "948770d6-9695-4732-c7a9-a318c776a722"
      },
      "source": [
        "df.info()"
      ],
      "execution_count": 314,
      "outputs": [
        {
          "output_type": "stream",
          "text": [
            "<class 'pandas.core.frame.DataFrame'>\n",
            "RangeIndex: 1000 entries, 0 to 999\n",
            "Data columns (total 7 columns):\n",
            " #   Column      Non-Null Count  Dtype  \n",
            "---  ------      --------------  -----  \n",
            " 0   BHK         1000 non-null   float64\n",
            " 1   Locality    1000 non-null   object \n",
            " 2   Price       1000 non-null   float64\n",
            " 3   Price_unit  1000 non-null   object \n",
            " 4   Area_sqft   1000 non-null   int64  \n",
            " 5   Rate        1000 non-null   int64  \n",
            " 6   Status      1000 non-null   object \n",
            "dtypes: float64(2), int64(2), object(3)\n",
            "memory usage: 54.8+ KB\n"
          ],
          "name": "stdout"
        }
      ]
    },
    {
      "cell_type": "code",
      "metadata": {
        "id": "DdWw7If6Svfb"
      },
      "source": [
        "df1=df.copy(deep= True) #copying the dataframe safeguarding from accidental changes"
      ],
      "execution_count": 315,
      "outputs": []
    },
    {
      "cell_type": "code",
      "metadata": {
        "colab": {
          "base_uri": "https://localhost:8080/",
          "height": 419
        },
        "id": "jMVYEmU1Szj_",
        "outputId": "a7119a71-192b-4d4a-826f-ef85b9803d7d"
      },
      "source": [
        "df1"
      ],
      "execution_count": 316,
      "outputs": [
        {
          "output_type": "execute_result",
          "data": {
            "text/html": [
              "<div>\n",
              "<style scoped>\n",
              "    .dataframe tbody tr th:only-of-type {\n",
              "        vertical-align: middle;\n",
              "    }\n",
              "\n",
              "    .dataframe tbody tr th {\n",
              "        vertical-align: top;\n",
              "    }\n",
              "\n",
              "    .dataframe thead th {\n",
              "        text-align: right;\n",
              "    }\n",
              "</style>\n",
              "<table border=\"1\" class=\"dataframe\">\n",
              "  <thead>\n",
              "    <tr style=\"text-align: right;\">\n",
              "      <th></th>\n",
              "      <th>BHK</th>\n",
              "      <th>Locality</th>\n",
              "      <th>Price</th>\n",
              "      <th>Price_unit</th>\n",
              "      <th>Area_sqft</th>\n",
              "      <th>Rate</th>\n",
              "      <th>Status</th>\n",
              "    </tr>\n",
              "  </thead>\n",
              "  <tbody>\n",
              "    <tr>\n",
              "      <th>0</th>\n",
              "      <td>2.0</td>\n",
              "      <td>New Barrakpur</td>\n",
              "      <td>21.25</td>\n",
              "      <td>L</td>\n",
              "      <td>850</td>\n",
              "      <td>2500</td>\n",
              "      <td>Ready to move</td>\n",
              "    </tr>\n",
              "    <tr>\n",
              "      <th>1</th>\n",
              "      <td>3.0</td>\n",
              "      <td>Sonarpur</td>\n",
              "      <td>74.00</td>\n",
              "      <td>L</td>\n",
              "      <td>1408</td>\n",
              "      <td>5255</td>\n",
              "      <td>Under Construction</td>\n",
              "    </tr>\n",
              "    <tr>\n",
              "      <th>2</th>\n",
              "      <td>2.0</td>\n",
              "      <td>Rajarhat</td>\n",
              "      <td>62.48</td>\n",
              "      <td>L</td>\n",
              "      <td>775</td>\n",
              "      <td>8062</td>\n",
              "      <td>Under Construction</td>\n",
              "    </tr>\n",
              "    <tr>\n",
              "      <th>3</th>\n",
              "      <td>2.0</td>\n",
              "      <td>Barasat</td>\n",
              "      <td>43.99</td>\n",
              "      <td>L</td>\n",
              "      <td>1444</td>\n",
              "      <td>3047</td>\n",
              "      <td>Ready to move</td>\n",
              "    </tr>\n",
              "    <tr>\n",
              "      <th>4</th>\n",
              "      <td>3.0</td>\n",
              "      <td>Tangra</td>\n",
              "      <td>71.51</td>\n",
              "      <td>L</td>\n",
              "      <td>1337</td>\n",
              "      <td>5348</td>\n",
              "      <td>Under Construction</td>\n",
              "    </tr>\n",
              "    <tr>\n",
              "      <th>...</th>\n",
              "      <td>...</td>\n",
              "      <td>...</td>\n",
              "      <td>...</td>\n",
              "      <td>...</td>\n",
              "      <td>...</td>\n",
              "      <td>...</td>\n",
              "      <td>...</td>\n",
              "    </tr>\n",
              "    <tr>\n",
              "      <th>995</th>\n",
              "      <td>2.0</td>\n",
              "      <td>Garia</td>\n",
              "      <td>24.00</td>\n",
              "      <td>L</td>\n",
              "      <td>720</td>\n",
              "      <td>3333</td>\n",
              "      <td>Ready to move</td>\n",
              "    </tr>\n",
              "    <tr>\n",
              "      <th>996</th>\n",
              "      <td>2.0</td>\n",
              "      <td>Garia</td>\n",
              "      <td>24.00</td>\n",
              "      <td>L</td>\n",
              "      <td>720</td>\n",
              "      <td>3333</td>\n",
              "      <td>Ready to move</td>\n",
              "    </tr>\n",
              "    <tr>\n",
              "      <th>997</th>\n",
              "      <td>2.0</td>\n",
              "      <td>Garia</td>\n",
              "      <td>25.00</td>\n",
              "      <td>L</td>\n",
              "      <td>720</td>\n",
              "      <td>3472</td>\n",
              "      <td>Ready to move</td>\n",
              "    </tr>\n",
              "    <tr>\n",
              "      <th>998</th>\n",
              "      <td>2.0</td>\n",
              "      <td>Garia</td>\n",
              "      <td>25.00</td>\n",
              "      <td>L</td>\n",
              "      <td>720</td>\n",
              "      <td>3472</td>\n",
              "      <td>Ready to move</td>\n",
              "    </tr>\n",
              "    <tr>\n",
              "      <th>999</th>\n",
              "      <td>2.0</td>\n",
              "      <td>Garia</td>\n",
              "      <td>25.00</td>\n",
              "      <td>L</td>\n",
              "      <td>720</td>\n",
              "      <td>3472</td>\n",
              "      <td>Ready to move</td>\n",
              "    </tr>\n",
              "  </tbody>\n",
              "</table>\n",
              "<p>1000 rows × 7 columns</p>\n",
              "</div>"
            ],
            "text/plain": [
              "     BHK       Locality  Price Price_unit  Area_sqft  Rate              Status\n",
              "0    2.0  New Barrakpur  21.25          L        850  2500       Ready to move\n",
              "1    3.0       Sonarpur  74.00          L       1408  5255  Under Construction\n",
              "2    2.0       Rajarhat  62.48          L        775  8062  Under Construction\n",
              "3    2.0        Barasat  43.99          L       1444  3047       Ready to move\n",
              "4    3.0         Tangra  71.51          L       1337  5348  Under Construction\n",
              "..   ...            ...    ...        ...        ...   ...                 ...\n",
              "995  2.0          Garia  24.00          L        720  3333       Ready to move\n",
              "996  2.0          Garia  24.00          L        720  3333       Ready to move\n",
              "997  2.0          Garia  25.00          L        720  3472       Ready to move\n",
              "998  2.0          Garia  25.00          L        720  3472       Ready to move\n",
              "999  2.0          Garia  25.00          L        720  3472       Ready to move\n",
              "\n",
              "[1000 rows x 7 columns]"
            ]
          },
          "metadata": {
            "tags": []
          },
          "execution_count": 316
        }
      ]
    },
    {
      "cell_type": "code",
      "metadata": {
        "colab": {
          "base_uri": "https://localhost:8080/",
          "height": 297
        },
        "id": "8XSSPAtYS0Ow",
        "outputId": "05e58ecc-9cb1-4006-8bca-d1d4b198a3e0"
      },
      "source": [
        "df1.describe()"
      ],
      "execution_count": 317,
      "outputs": [
        {
          "output_type": "execute_result",
          "data": {
            "text/html": [
              "<div>\n",
              "<style scoped>\n",
              "    .dataframe tbody tr th:only-of-type {\n",
              "        vertical-align: middle;\n",
              "    }\n",
              "\n",
              "    .dataframe tbody tr th {\n",
              "        vertical-align: top;\n",
              "    }\n",
              "\n",
              "    .dataframe thead th {\n",
              "        text-align: right;\n",
              "    }\n",
              "</style>\n",
              "<table border=\"1\" class=\"dataframe\">\n",
              "  <thead>\n",
              "    <tr style=\"text-align: right;\">\n",
              "      <th></th>\n",
              "      <th>BHK</th>\n",
              "      <th>Price</th>\n",
              "      <th>Area_sqft</th>\n",
              "      <th>Rate</th>\n",
              "    </tr>\n",
              "  </thead>\n",
              "  <tbody>\n",
              "    <tr>\n",
              "      <th>count</th>\n",
              "      <td>1000.000000</td>\n",
              "      <td>1000.000000</td>\n",
              "      <td>1000.000000</td>\n",
              "      <td>1000.000000</td>\n",
              "    </tr>\n",
              "    <tr>\n",
              "      <th>mean</th>\n",
              "      <td>2.949640</td>\n",
              "      <td>37.510200</td>\n",
              "      <td>1150.449000</td>\n",
              "      <td>4722.958000</td>\n",
              "    </tr>\n",
              "    <tr>\n",
              "      <th>std</th>\n",
              "      <td>4.348802</td>\n",
              "      <td>23.284591</td>\n",
              "      <td>642.287902</td>\n",
              "      <td>2361.270147</td>\n",
              "    </tr>\n",
              "    <tr>\n",
              "      <th>min</th>\n",
              "      <td>1.000000</td>\n",
              "      <td>1.000000</td>\n",
              "      <td>358.000000</td>\n",
              "      <td>145.000000</td>\n",
              "    </tr>\n",
              "    <tr>\n",
              "      <th>25%</th>\n",
              "      <td>2.000000</td>\n",
              "      <td>23.000000</td>\n",
              "      <td>814.000000</td>\n",
              "      <td>3200.000000</td>\n",
              "    </tr>\n",
              "    <tr>\n",
              "      <th>50%</th>\n",
              "      <td>3.000000</td>\n",
              "      <td>35.525000</td>\n",
              "      <td>1016.500000</td>\n",
              "      <td>3938.000000</td>\n",
              "    </tr>\n",
              "    <tr>\n",
              "      <th>75%</th>\n",
              "      <td>3.000000</td>\n",
              "      <td>51.170000</td>\n",
              "      <td>1337.750000</td>\n",
              "      <td>5844.000000</td>\n",
              "    </tr>\n",
              "    <tr>\n",
              "      <th>max</th>\n",
              "      <td>96.000000</td>\n",
              "      <td>98.340000</td>\n",
              "      <td>6500.000000</td>\n",
              "      <td>19418.000000</td>\n",
              "    </tr>\n",
              "  </tbody>\n",
              "</table>\n",
              "</div>"
            ],
            "text/plain": [
              "               BHK        Price    Area_sqft          Rate\n",
              "count  1000.000000  1000.000000  1000.000000   1000.000000\n",
              "mean      2.949640    37.510200  1150.449000   4722.958000\n",
              "std       4.348802    23.284591   642.287902   2361.270147\n",
              "min       1.000000     1.000000   358.000000    145.000000\n",
              "25%       2.000000    23.000000   814.000000   3200.000000\n",
              "50%       3.000000    35.525000  1016.500000   3938.000000\n",
              "75%       3.000000    51.170000  1337.750000   5844.000000\n",
              "max      96.000000    98.340000  6500.000000  19418.000000"
            ]
          },
          "metadata": {
            "tags": []
          },
          "execution_count": 317
        }
      ]
    },
    {
      "cell_type": "code",
      "metadata": {
        "colab": {
          "base_uri": "https://localhost:8080/",
          "height": 300
        },
        "id": "Fv5L8JqCDriO",
        "outputId": "1f68db89-0a90-41d8-b7ae-479022480eee"
      },
      "source": [
        "sns.histplot(df['BHK'], bins=30)"
      ],
      "execution_count": 349,
      "outputs": [
        {
          "output_type": "execute_result",
          "data": {
            "text/plain": [
              "<matplotlib.axes._subplots.AxesSubplot at 0x7f854eec48d0>"
            ]
          },
          "metadata": {
            "tags": []
          },
          "execution_count": 349
        },
        {
          "output_type": "display_data",
          "data": {
            "image/png": "[encoded data removed]",
            "text/plain": [
              "<Figure size 432x288 with 1 Axes>"
            ]
          },
          "metadata": {
            "tags": [],
            "needs_background": "light"
          }
        }
      ]
    },
    {
      "cell_type": "code",
      "metadata": {
        "id": "qdxI24icTLze"
      },
      "source": [
        "median = float(df1['BHK'].median())\n",
        "df1['BHK'] = np.where(df1['BHK'] >df1['BHK'].quantile(0.99), median, df1['BHK']) #0.99 taken as quantile parameter  for outlier imputation as it is observed that it is only capturing true values."
      ],
      "execution_count": 318,
      "outputs": []
    },
    {
      "cell_type": "code",
      "metadata": {
        "colab": {
          "base_uri": "https://localhost:8080/",
          "height": 297
        },
        "id": "Q4JLUE8smg_4",
        "outputId": "6b6635e7-abc6-4f7d-d9f7-91c7756c605a"
      },
      "source": [
        "df1.describe()"
      ],
      "execution_count": 319,
      "outputs": [
        {
          "output_type": "execute_result",
          "data": {
            "text/html": [
              "<div>\n",
              "<style scoped>\n",
              "    .dataframe tbody tr th:only-of-type {\n",
              "        vertical-align: middle;\n",
              "    }\n",
              "\n",
              "    .dataframe tbody tr th {\n",
              "        vertical-align: top;\n",
              "    }\n",
              "\n",
              "    .dataframe thead th {\n",
              "        text-align: right;\n",
              "    }\n",
              "</style>\n",
              "<table border=\"1\" class=\"dataframe\">\n",
              "  <thead>\n",
              "    <tr style=\"text-align: right;\">\n",
              "      <th></th>\n",
              "      <th>BHK</th>\n",
              "      <th>Price</th>\n",
              "      <th>Area_sqft</th>\n",
              "      <th>Rate</th>\n",
              "    </tr>\n",
              "  </thead>\n",
              "  <tbody>\n",
              "    <tr>\n",
              "      <th>count</th>\n",
              "      <td>1000.000000</td>\n",
              "      <td>1000.000000</td>\n",
              "      <td>1000.000000</td>\n",
              "      <td>1000.000000</td>\n",
              "    </tr>\n",
              "    <tr>\n",
              "      <th>mean</th>\n",
              "      <td>2.627640</td>\n",
              "      <td>37.510200</td>\n",
              "      <td>1150.449000</td>\n",
              "      <td>4722.958000</td>\n",
              "    </tr>\n",
              "    <tr>\n",
              "      <th>std</th>\n",
              "      <td>0.988953</td>\n",
              "      <td>23.284591</td>\n",
              "      <td>642.287902</td>\n",
              "      <td>2361.270147</td>\n",
              "    </tr>\n",
              "    <tr>\n",
              "      <th>min</th>\n",
              "      <td>1.000000</td>\n",
              "      <td>1.000000</td>\n",
              "      <td>358.000000</td>\n",
              "      <td>145.000000</td>\n",
              "    </tr>\n",
              "    <tr>\n",
              "      <th>25%</th>\n",
              "      <td>2.000000</td>\n",
              "      <td>23.000000</td>\n",
              "      <td>814.000000</td>\n",
              "      <td>3200.000000</td>\n",
              "    </tr>\n",
              "    <tr>\n",
              "      <th>50%</th>\n",
              "      <td>3.000000</td>\n",
              "      <td>35.525000</td>\n",
              "      <td>1016.500000</td>\n",
              "      <td>3938.000000</td>\n",
              "    </tr>\n",
              "    <tr>\n",
              "      <th>75%</th>\n",
              "      <td>3.000000</td>\n",
              "      <td>51.170000</td>\n",
              "      <td>1337.750000</td>\n",
              "      <td>5844.000000</td>\n",
              "    </tr>\n",
              "    <tr>\n",
              "      <th>max</th>\n",
              "      <td>9.000000</td>\n",
              "      <td>98.340000</td>\n",
              "      <td>6500.000000</td>\n",
              "      <td>19418.000000</td>\n",
              "    </tr>\n",
              "  </tbody>\n",
              "</table>\n",
              "</div>"
            ],
            "text/plain": [
              "               BHK        Price    Area_sqft          Rate\n",
              "count  1000.000000  1000.000000  1000.000000   1000.000000\n",
              "mean      2.627640    37.510200  1150.449000   4722.958000\n",
              "std       0.988953    23.284591   642.287902   2361.270147\n",
              "min       1.000000     1.000000   358.000000    145.000000\n",
              "25%       2.000000    23.000000   814.000000   3200.000000\n",
              "50%       3.000000    35.525000  1016.500000   3938.000000\n",
              "75%       3.000000    51.170000  1337.750000   5844.000000\n",
              "max       9.000000    98.340000  6500.000000  19418.000000"
            ]
          },
          "metadata": {
            "tags": []
          },
          "execution_count": 319
        }
      ]
    },
    {
      "cell_type": "markdown",
      "metadata": {
        "id": "5Z7le_zRIBTc"
      },
      "source": [
        "Removing outliers from BHK column gave us a realistic 9 BHK rather than 96 BHK which is absurd in Kolkata"
      ]
    },
    {
      "cell_type": "code",
      "metadata": {
        "colab": {
          "base_uri": "https://localhost:8080/",
          "height": 296
        },
        "id": "d4EGjaA8Pmor",
        "outputId": "bd75a3ac-4fc0-493b-8e4b-1cef30917b1a"
      },
      "source": [
        "sns.histplot(df1['BHK'], bins=30)"
      ],
      "execution_count": 350,
      "outputs": [
        {
          "output_type": "execute_result",
          "data": {
            "text/plain": [
              "<matplotlib.axes._subplots.AxesSubplot at 0x7f854e8cd850>"
            ]
          },
          "metadata": {
            "tags": []
          },
          "execution_count": 350
        },
        {
          "output_type": "display_data",
          "data": {
            "image/png": "[encoded data removed]",
            "text/plain": [
              "<Figure size 432x288 with 1 Axes>"
            ]
          },
          "metadata": {
            "tags": [],
            "needs_background": "light"
          }
        }
      ]
    },
    {
      "cell_type": "code",
      "metadata": {
        "id": "_TMhp5yQnWQz"
      },
      "source": [
        "#print(df1.loc[df1['BHK'] == 18]) #Seeing the output we saw bhk and price value which denotes that this listing does not have any BHK info so we revert back to quantile(0.97)"
      ],
      "execution_count": 320,
      "outputs": []
    },
    {
      "cell_type": "code",
      "metadata": {
        "colab": {
          "base_uri": "https://localhost:8080/"
        },
        "id": "W2q5Jobpm2QH",
        "outputId": "6594f389-79cb-4440-b149-56b98e25b508"
      },
      "source": [
        "print(df1.loc[df1['BHK'] == 9])"
      ],
      "execution_count": 326,
      "outputs": [
        {
          "output_type": "stream",
          "text": [
            "     BHK       Locality  Price Price_unit  Area_sqft   Rate         Status\n",
            "19   9.0  south dum dum    2.5         Cr       6500   3846  Ready to move\n",
            "464  9.0  south dum dum    2.5         Cr       6500   3846  Ready to move\n",
            "465  9.0  south dum dum    2.5         Cr       6500   3846  Ready to move\n",
            "466  9.0  south dum dum    2.5         Cr       6500   3846  Ready to move\n",
            "727  9.0       Baruipur    9.0         Cr       6480  13888         Resale\n"
          ],
          "name": "stdout"
        }
      ]
    },
    {
      "cell_type": "markdown",
      "metadata": {
        "id": "4ixPro6xof0N"
      },
      "source": [
        "seeing the output we can clearly assume that the listings are legit."
      ]
    },
    {
      "cell_type": "markdown",
      "metadata": {
        "id": "Mn6sFzsjqKjm"
      },
      "source": [
        "Now we need to do some preprocessing for L and Cr data. Lets map them values so we can merge two columns price and price_unit"
      ]
    },
    {
      "cell_type": "code",
      "metadata": {
        "colab": {
          "base_uri": "https://localhost:8080/"
        },
        "id": "2u-ENbX5rgXO",
        "outputId": "213642e2-7ee5-4938-dc85-3edef6b1aeab"
      },
      "source": [
        "df1['Price_unit'].unique()"
      ],
      "execution_count": 327,
      "outputs": [
        {
          "output_type": "execute_result",
          "data": {
            "text/plain": [
              "array([' L', ' Cr'], dtype=object)"
            ]
          },
          "metadata": {
            "tags": []
          },
          "execution_count": 327
        }
      ]
    },
    {
      "cell_type": "code",
      "metadata": {
        "colab": {
          "base_uri": "https://localhost:8080/"
        },
        "id": "Y6OxGRlvulCP",
        "outputId": "477313b6-c94d-4a0a-e05a-40a61df5e950"
      },
      "source": [
        "df1['Price_unit'] = df1['Price_unit'].str.strip() #stripping white space which was causing problem in mapping data to the column\n",
        "df1['Price_unit'].unique()"
      ],
      "execution_count": 328,
      "outputs": [
        {
          "output_type": "execute_result",
          "data": {
            "text/plain": [
              "array(['L', 'Cr'], dtype=object)"
            ]
          },
          "metadata": {
            "tags": []
          },
          "execution_count": 328
        }
      ]
    },
    {
      "cell_type": "code",
      "metadata": {
        "colab": {
          "base_uri": "https://localhost:8080/",
          "height": 419
        },
        "id": "2Ls-lGK0qJXC",
        "outputId": "502cde15-747e-4fa0-e0b1-d3b942d9d0fd"
      },
      "source": [
        "df1['price_in_lakh'] =df1['Price_unit'].map({'L': '1' , 'Cr': '100'})\n",
        "\n",
        "df1"
      ],
      "execution_count": 329,
      "outputs": [
        {
          "output_type": "execute_result",
          "data": {
            "text/html": [
              "<div>\n",
              "<style scoped>\n",
              "    .dataframe tbody tr th:only-of-type {\n",
              "        vertical-align: middle;\n",
              "    }\n",
              "\n",
              "    .dataframe tbody tr th {\n",
              "        vertical-align: top;\n",
              "    }\n",
              "\n",
              "    .dataframe thead th {\n",
              "        text-align: right;\n",
              "    }\n",
              "</style>\n",
              "<table border=\"1\" class=\"dataframe\">\n",
              "  <thead>\n",
              "    <tr style=\"text-align: right;\">\n",
              "      <th></th>\n",
              "      <th>BHK</th>\n",
              "      <th>Locality</th>\n",
              "      <th>Price</th>\n",
              "      <th>Price_unit</th>\n",
              "      <th>Area_sqft</th>\n",
              "      <th>Rate</th>\n",
              "      <th>Status</th>\n",
              "      <th>price_in_lakh</th>\n",
              "    </tr>\n",
              "  </thead>\n",
              "  <tbody>\n",
              "    <tr>\n",
              "      <th>0</th>\n",
              "      <td>2.0</td>\n",
              "      <td>New Barrakpur</td>\n",
              "      <td>21.25</td>\n",
              "      <td>L</td>\n",
              "      <td>850</td>\n",
              "      <td>2500</td>\n",
              "      <td>Ready to move</td>\n",
              "      <td>1</td>\n",
              "    </tr>\n",
              "    <tr>\n",
              "      <th>1</th>\n",
              "      <td>3.0</td>\n",
              "      <td>Sonarpur</td>\n",
              "      <td>74.00</td>\n",
              "      <td>L</td>\n",
              "      <td>1408</td>\n",
              "      <td>5255</td>\n",
              "      <td>Under Construction</td>\n",
              "      <td>1</td>\n",
              "    </tr>\n",
              "    <tr>\n",
              "      <th>2</th>\n",
              "      <td>2.0</td>\n",
              "      <td>Rajarhat</td>\n",
              "      <td>62.48</td>\n",
              "      <td>L</td>\n",
              "      <td>775</td>\n",
              "      <td>8062</td>\n",
              "      <td>Under Construction</td>\n",
              "      <td>1</td>\n",
              "    </tr>\n",
              "    <tr>\n",
              "      <th>3</th>\n",
              "      <td>2.0</td>\n",
              "      <td>Barasat</td>\n",
              "      <td>43.99</td>\n",
              "      <td>L</td>\n",
              "      <td>1444</td>\n",
              "      <td>3047</td>\n",
              "      <td>Ready to move</td>\n",
              "      <td>1</td>\n",
              "    </tr>\n",
              "    <tr>\n",
              "      <th>4</th>\n",
              "      <td>3.0</td>\n",
              "      <td>Tangra</td>\n",
              "      <td>71.51</td>\n",
              "      <td>L</td>\n",
              "      <td>1337</td>\n",
              "      <td>5348</td>\n",
              "      <td>Under Construction</td>\n",
              "      <td>1</td>\n",
              "    </tr>\n",
              "    <tr>\n",
              "      <th>...</th>\n",
              "      <td>...</td>\n",
              "      <td>...</td>\n",
              "      <td>...</td>\n",
              "      <td>...</td>\n",
              "      <td>...</td>\n",
              "      <td>...</td>\n",
              "      <td>...</td>\n",
              "      <td>...</td>\n",
              "    </tr>\n",
              "    <tr>\n",
              "      <th>995</th>\n",
              "      <td>2.0</td>\n",
              "      <td>Garia</td>\n",
              "      <td>24.00</td>\n",
              "      <td>L</td>\n",
              "      <td>720</td>\n",
              "      <td>3333</td>\n",
              "      <td>Ready to move</td>\n",
              "      <td>1</td>\n",
              "    </tr>\n",
              "    <tr>\n",
              "      <th>996</th>\n",
              "      <td>2.0</td>\n",
              "      <td>Garia</td>\n",
              "      <td>24.00</td>\n",
              "      <td>L</td>\n",
              "      <td>720</td>\n",
              "      <td>3333</td>\n",
              "      <td>Ready to move</td>\n",
              "      <td>1</td>\n",
              "    </tr>\n",
              "    <tr>\n",
              "      <th>997</th>\n",
              "      <td>2.0</td>\n",
              "      <td>Garia</td>\n",
              "      <td>25.00</td>\n",
              "      <td>L</td>\n",
              "      <td>720</td>\n",
              "      <td>3472</td>\n",
              "      <td>Ready to move</td>\n",
              "      <td>1</td>\n",
              "    </tr>\n",
              "    <tr>\n",
              "      <th>998</th>\n",
              "      <td>2.0</td>\n",
              "      <td>Garia</td>\n",
              "      <td>25.00</td>\n",
              "      <td>L</td>\n",
              "      <td>720</td>\n",
              "      <td>3472</td>\n",
              "      <td>Ready to move</td>\n",
              "      <td>1</td>\n",
              "    </tr>\n",
              "    <tr>\n",
              "      <th>999</th>\n",
              "      <td>2.0</td>\n",
              "      <td>Garia</td>\n",
              "      <td>25.00</td>\n",
              "      <td>L</td>\n",
              "      <td>720</td>\n",
              "      <td>3472</td>\n",
              "      <td>Ready to move</td>\n",
              "      <td>1</td>\n",
              "    </tr>\n",
              "  </tbody>\n",
              "</table>\n",
              "<p>1000 rows × 8 columns</p>\n",
              "</div>"
            ],
            "text/plain": [
              "     BHK       Locality  Price  ...  Rate              Status  price_in_lakh\n",
              "0    2.0  New Barrakpur  21.25  ...  2500       Ready to move              1\n",
              "1    3.0       Sonarpur  74.00  ...  5255  Under Construction              1\n",
              "2    2.0       Rajarhat  62.48  ...  8062  Under Construction              1\n",
              "3    2.0        Barasat  43.99  ...  3047       Ready to move              1\n",
              "4    3.0         Tangra  71.51  ...  5348  Under Construction              1\n",
              "..   ...            ...    ...  ...   ...                 ...            ...\n",
              "995  2.0          Garia  24.00  ...  3333       Ready to move              1\n",
              "996  2.0          Garia  24.00  ...  3333       Ready to move              1\n",
              "997  2.0          Garia  25.00  ...  3472       Ready to move              1\n",
              "998  2.0          Garia  25.00  ...  3472       Ready to move              1\n",
              "999  2.0          Garia  25.00  ...  3472       Ready to move              1\n",
              "\n",
              "[1000 rows x 8 columns]"
            ]
          },
          "metadata": {
            "tags": []
          },
          "execution_count": 329
        }
      ]
    },
    {
      "cell_type": "code",
      "metadata": {
        "colab": {
          "base_uri": "https://localhost:8080/",
          "height": 419
        },
        "id": "RuP057eOvh4R",
        "outputId": "790bb7ca-331b-4bf9-af78-a0ba55b5faec"
      },
      "source": [
        "df1.BHK = df1.BHK.astype(int) #[Returning BHK back to integer]\n",
        "df1['price_in_lakh'] = df1['price_in_lakh'].astype(float)  #changing to float as string data cannot multiply with int\n",
        "df1= df1.drop('Price_unit', axis=1) # as we have already mapped price_unit to price_in_lakh\n",
        "df1['Price_in_lakh']= df1['Price']* df1['price_in_lakh'] # converting all prices to lakh \n",
        "df1= df1.drop('price_in_lakh', axis=1) #dropping redundant columns\n",
        "df1= df1.drop('Price', axis=1)\n",
        "df1 = df1[['BHK', 'Locality','Price_in_lakh','Area_sqft','Rate','Status']] #arranging\n",
        "df1"
      ],
      "execution_count": 330,
      "outputs": [
        {
          "output_type": "execute_result",
          "data": {
            "text/html": [
              "<div>\n",
              "<style scoped>\n",
              "    .dataframe tbody tr th:only-of-type {\n",
              "        vertical-align: middle;\n",
              "    }\n",
              "\n",
              "    .dataframe tbody tr th {\n",
              "        vertical-align: top;\n",
              "    }\n",
              "\n",
              "    .dataframe thead th {\n",
              "        text-align: right;\n",
              "    }\n",
              "</style>\n",
              "<table border=\"1\" class=\"dataframe\">\n",
              "  <thead>\n",
              "    <tr style=\"text-align: right;\">\n",
              "      <th></th>\n",
              "      <th>BHK</th>\n",
              "      <th>Locality</th>\n",
              "      <th>Price_in_lakh</th>\n",
              "      <th>Area_sqft</th>\n",
              "      <th>Rate</th>\n",
              "      <th>Status</th>\n",
              "    </tr>\n",
              "  </thead>\n",
              "  <tbody>\n",
              "    <tr>\n",
              "      <th>0</th>\n",
              "      <td>2</td>\n",
              "      <td>New Barrakpur</td>\n",
              "      <td>21.25</td>\n",
              "      <td>850</td>\n",
              "      <td>2500</td>\n",
              "      <td>Ready to move</td>\n",
              "    </tr>\n",
              "    <tr>\n",
              "      <th>1</th>\n",
              "      <td>3</td>\n",
              "      <td>Sonarpur</td>\n",
              "      <td>74.00</td>\n",
              "      <td>1408</td>\n",
              "      <td>5255</td>\n",
              "      <td>Under Construction</td>\n",
              "    </tr>\n",
              "    <tr>\n",
              "      <th>2</th>\n",
              "      <td>2</td>\n",
              "      <td>Rajarhat</td>\n",
              "      <td>62.48</td>\n",
              "      <td>775</td>\n",
              "      <td>8062</td>\n",
              "      <td>Under Construction</td>\n",
              "    </tr>\n",
              "    <tr>\n",
              "      <th>3</th>\n",
              "      <td>2</td>\n",
              "      <td>Barasat</td>\n",
              "      <td>43.99</td>\n",
              "      <td>1444</td>\n",
              "      <td>3047</td>\n",
              "      <td>Ready to move</td>\n",
              "    </tr>\n",
              "    <tr>\n",
              "      <th>4</th>\n",
              "      <td>3</td>\n",
              "      <td>Tangra</td>\n",
              "      <td>71.51</td>\n",
              "      <td>1337</td>\n",
              "      <td>5348</td>\n",
              "      <td>Under Construction</td>\n",
              "    </tr>\n",
              "    <tr>\n",
              "      <th>...</th>\n",
              "      <td>...</td>\n",
              "      <td>...</td>\n",
              "      <td>...</td>\n",
              "      <td>...</td>\n",
              "      <td>...</td>\n",
              "      <td>...</td>\n",
              "    </tr>\n",
              "    <tr>\n",
              "      <th>995</th>\n",
              "      <td>2</td>\n",
              "      <td>Garia</td>\n",
              "      <td>24.00</td>\n",
              "      <td>720</td>\n",
              "      <td>3333</td>\n",
              "      <td>Ready to move</td>\n",
              "    </tr>\n",
              "    <tr>\n",
              "      <th>996</th>\n",
              "      <td>2</td>\n",
              "      <td>Garia</td>\n",
              "      <td>24.00</td>\n",
              "      <td>720</td>\n",
              "      <td>3333</td>\n",
              "      <td>Ready to move</td>\n",
              "    </tr>\n",
              "    <tr>\n",
              "      <th>997</th>\n",
              "      <td>2</td>\n",
              "      <td>Garia</td>\n",
              "      <td>25.00</td>\n",
              "      <td>720</td>\n",
              "      <td>3472</td>\n",
              "      <td>Ready to move</td>\n",
              "    </tr>\n",
              "    <tr>\n",
              "      <th>998</th>\n",
              "      <td>2</td>\n",
              "      <td>Garia</td>\n",
              "      <td>25.00</td>\n",
              "      <td>720</td>\n",
              "      <td>3472</td>\n",
              "      <td>Ready to move</td>\n",
              "    </tr>\n",
              "    <tr>\n",
              "      <th>999</th>\n",
              "      <td>2</td>\n",
              "      <td>Garia</td>\n",
              "      <td>25.00</td>\n",
              "      <td>720</td>\n",
              "      <td>3472</td>\n",
              "      <td>Ready to move</td>\n",
              "    </tr>\n",
              "  </tbody>\n",
              "</table>\n",
              "<p>1000 rows × 6 columns</p>\n",
              "</div>"
            ],
            "text/plain": [
              "     BHK       Locality  Price_in_lakh  Area_sqft  Rate              Status\n",
              "0      2  New Barrakpur          21.25        850  2500       Ready to move\n",
              "1      3       Sonarpur          74.00       1408  5255  Under Construction\n",
              "2      2       Rajarhat          62.48        775  8062  Under Construction\n",
              "3      2        Barasat          43.99       1444  3047       Ready to move\n",
              "4      3         Tangra          71.51       1337  5348  Under Construction\n",
              "..   ...            ...            ...        ...   ...                 ...\n",
              "995    2          Garia          24.00        720  3333       Ready to move\n",
              "996    2          Garia          24.00        720  3333       Ready to move\n",
              "997    2          Garia          25.00        720  3472       Ready to move\n",
              "998    2          Garia          25.00        720  3472       Ready to move\n",
              "999    2          Garia          25.00        720  3472       Ready to move\n",
              "\n",
              "[1000 rows x 6 columns]"
            ]
          },
          "metadata": {
            "tags": []
          },
          "execution_count": 330
        }
      ]
    },
    {
      "cell_type": "markdown",
      "metadata": {
        "id": "znG8DvNCBAir"
      },
      "source": [
        "Price in Lakh = Area sqft * Rate + Miscellaneous(Tax, Stamp duty etc) "
      ]
    },
    {
      "cell_type": "code",
      "metadata": {
        "colab": {
          "base_uri": "https://localhost:8080/"
        },
        "id": "Jxhygo6GwE6n",
        "outputId": "42af3e71-cf9d-461e-b79f-9daa5374d1dc"
      },
      "source": [
        "df1.Status.unique()"
      ],
      "execution_count": 331,
      "outputs": [
        {
          "output_type": "execute_result",
          "data": {
            "text/plain": [
              "array(['Ready to move', 'Under Construction', 'Resale', 'New'],\n",
              "      dtype=object)"
            ]
          },
          "metadata": {
            "tags": []
          },
          "execution_count": 331
        }
      ]
    },
    {
      "cell_type": "code",
      "metadata": {
        "id": "9dus60G4zzPv"
      },
      "source": [
        "import matplotlib.pyplot as plt\n",
        "import seaborn as sns"
      ],
      "execution_count": 332,
      "outputs": []
    },
    {
      "cell_type": "code",
      "metadata": {
        "colab": {
          "base_uri": "https://localhost:8080/",
          "height": 405
        },
        "id": "-swcYgFa3RiW",
        "outputId": "2da44c6f-96cb-432b-fb5c-5ab56a412a8d"
      },
      "source": [
        "plt.figure(figsize=(8,6))\n",
        "sns.countplot(x= 'Status',data=df1, hue= 'BHK')"
      ],
      "execution_count": 336,
      "outputs": [
        {
          "output_type": "execute_result",
          "data": {
            "text/plain": [
              "<matplotlib.axes._subplots.AxesSubplot at 0x7f8532112d50>"
            ]
          },
          "metadata": {
            "tags": []
          },
          "execution_count": 336
        },
        {
          "output_type": "display_data",
          "data": {
            "image/png": "[encoded data removed]",
            "text/plain": [
              "<Figure size 576x432 with 1 Axes>"
            ]
          },
          "metadata": {
            "tags": [],
            "needs_background": "light"
          }
        }
      ]
    },
    {
      "cell_type": "code",
      "metadata": {
        "colab": {
          "base_uri": "https://localhost:8080/",
          "height": 392
        },
        "id": "vHZavU-19um8",
        "outputId": "8530b784-ef2b-4a00-c008-f4db266a40fe"
      },
      "source": [
        "plt.figure(figsize=(8,6))\n",
        "sns.boxplot(data=df1)"
      ],
      "execution_count": 383,
      "outputs": [
        {
          "output_type": "execute_result",
          "data": {
            "text/plain": [
              "<matplotlib.axes._subplots.AxesSubplot at 0x7f852d054fd0>"
            ]
          },
          "metadata": {
            "tags": []
          },
          "execution_count": 383
        },
        {
          "output_type": "display_data",
          "data": {
            "image/png": "[encoded data removed]",
            "text/plain": [
              "<Figure size 576x432 with 1 Axes>"
            ]
          },
          "metadata": {
            "tags": [],
            "needs_background": "light"
          }
        }
      ]
    },
    {
      "cell_type": "code",
      "metadata": {
        "colab": {
          "base_uri": "https://localhost:8080/",
          "height": 351
        },
        "id": "90zPg9Br0955",
        "outputId": "31c6f609-a206-42c3-b305-6cad86b1c9a5"
      },
      "source": [
        "sns.distplot(df1['Price_in_lakh'])"
      ],
      "execution_count": 334,
      "outputs": [
        {
          "output_type": "stream",
          "text": [
            "/usr/local/lib/python3.7/dist-packages/seaborn/distributions.py:2557: FutureWarning: `distplot` is a deprecated function and will be removed in a future version. Please adapt your code to use either `displot` (a figure-level function with similar flexibility) or `histplot` (an axes-level function for histograms).\n",
            "  warnings.warn(msg, FutureWarning)\n"
          ],
          "name": "stderr"
        },
        {
          "output_type": "execute_result",
          "data": {
            "text/plain": [
              "<matplotlib.axes._subplots.AxesSubplot at 0x7f8532f92050>"
            ]
          },
          "metadata": {
            "tags": []
          },
          "execution_count": 334
        },
        {
          "output_type": "display_data",
          "data": {
            "image/png": "[encoded data removed]",
            "text/plain": [
              "<Figure size 432x288 with 1 Axes>"
            ]
          },
          "metadata": {
            "tags": [],
            "needs_background": "light"
          }
        }
      ]
    },
    {
      "cell_type": "markdown",
      "metadata": {
        "id": "1kyOSdP5XeyQ"
      },
      "source": [
        "**Area in SQFT wise analysis**\n"
      ]
    },
    {
      "cell_type": "code",
      "metadata": {
        "colab": {
          "base_uri": "https://localhost:8080/",
          "height": 355
        },
        "id": "BLCgZGkbUm3N",
        "outputId": "a75f1286-9c7f-4113-e9e6-406321a0756c"
      },
      "source": [
        "sns.distplot(df1['Area_sqft'])"
      ],
      "execution_count": 374,
      "outputs": [
        {
          "output_type": "stream",
          "text": [
            "/usr/local/lib/python3.7/dist-packages/seaborn/distributions.py:2557: FutureWarning: `distplot` is a deprecated function and will be removed in a future version. Please adapt your code to use either `displot` (a figure-level function with similar flexibility) or `histplot` (an axes-level function for histograms).\n",
            "  warnings.warn(msg, FutureWarning)\n"
          ],
          "name": "stderr"
        },
        {
          "output_type": "execute_result",
          "data": {
            "text/plain": [
              "<matplotlib.axes._subplots.AxesSubplot at 0x7f852d69e550>"
            ]
          },
          "metadata": {
            "tags": []
          },
          "execution_count": 374
        },
        {
          "output_type": "display_data",
          "data": {
            "image/png": "[encoded data removed]",
            "text/plain": [
              "<Figure size 432x288 with 1 Axes>"
            ]
          },
          "metadata": {
            "tags": [],
            "needs_background": "light"
          }
        }
      ]
    },
    {
      "cell_type": "code",
      "metadata": {
        "colab": {
          "base_uri": "https://localhost:8080/",
          "height": 607
        },
        "id": "YAq671_CUvvv",
        "outputId": "54701e89-ec61-42c7-dd9b-55435b619d30"
      },
      "source": [
        "plush_property= df1[df1['Area_sqft'].between(3000, 7000)]\n",
        "plush_property"
      ],
      "execution_count": 375,
      "outputs": [
        {
          "output_type": "execute_result",
          "data": {
            "text/html": [
              "<div>\n",
              "<style scoped>\n",
              "    .dataframe tbody tr th:only-of-type {\n",
              "        vertical-align: middle;\n",
              "    }\n",
              "\n",
              "    .dataframe tbody tr th {\n",
              "        vertical-align: top;\n",
              "    }\n",
              "\n",
              "    .dataframe thead th {\n",
              "        text-align: right;\n",
              "    }\n",
              "</style>\n",
              "<table border=\"1\" class=\"dataframe\">\n",
              "  <thead>\n",
              "    <tr style=\"text-align: right;\">\n",
              "      <th></th>\n",
              "      <th>BHK</th>\n",
              "      <th>Locality</th>\n",
              "      <th>Price_in_lakh</th>\n",
              "      <th>Area_sqft</th>\n",
              "      <th>Rate</th>\n",
              "      <th>Status</th>\n",
              "    </tr>\n",
              "  </thead>\n",
              "  <tbody>\n",
              "    <tr>\n",
              "      <th>19</th>\n",
              "      <td>9</td>\n",
              "      <td>south dum dum</td>\n",
              "      <td>250.0</td>\n",
              "      <td>6500</td>\n",
              "      <td>3846</td>\n",
              "      <td>Ready to move</td>\n",
              "    </tr>\n",
              "    <tr>\n",
              "      <th>46</th>\n",
              "      <td>8</td>\n",
              "      <td>Ballygunge</td>\n",
              "      <td>500.0</td>\n",
              "      <td>4000</td>\n",
              "      <td>12500</td>\n",
              "      <td>Ready to move</td>\n",
              "    </tr>\n",
              "    <tr>\n",
              "      <th>55</th>\n",
              "      <td>3</td>\n",
              "      <td>Topsia</td>\n",
              "      <td>230.0</td>\n",
              "      <td>3058</td>\n",
              "      <td>7521</td>\n",
              "      <td>Ready to move</td>\n",
              "    </tr>\n",
              "    <tr>\n",
              "      <th>74</th>\n",
              "      <td>5</td>\n",
              "      <td>Baguiati</td>\n",
              "      <td>255.0</td>\n",
              "      <td>3600</td>\n",
              "      <td>7083</td>\n",
              "      <td>Ready to move</td>\n",
              "    </tr>\n",
              "    <tr>\n",
              "      <th>464</th>\n",
              "      <td>9</td>\n",
              "      <td>south dum dum</td>\n",
              "      <td>250.0</td>\n",
              "      <td>6500</td>\n",
              "      <td>3846</td>\n",
              "      <td>Ready to move</td>\n",
              "    </tr>\n",
              "    <tr>\n",
              "      <th>465</th>\n",
              "      <td>9</td>\n",
              "      <td>south dum dum</td>\n",
              "      <td>250.0</td>\n",
              "      <td>6500</td>\n",
              "      <td>3846</td>\n",
              "      <td>Ready to move</td>\n",
              "    </tr>\n",
              "    <tr>\n",
              "      <th>466</th>\n",
              "      <td>9</td>\n",
              "      <td>south dum dum</td>\n",
              "      <td>250.0</td>\n",
              "      <td>6500</td>\n",
              "      <td>3846</td>\n",
              "      <td>Ready to move</td>\n",
              "    </tr>\n",
              "    <tr>\n",
              "      <th>482</th>\n",
              "      <td>3</td>\n",
              "      <td>Dankuni</td>\n",
              "      <td>65.0</td>\n",
              "      <td>3240</td>\n",
              "      <td>2006</td>\n",
              "      <td>Resale</td>\n",
              "    </tr>\n",
              "    <tr>\n",
              "      <th>537</th>\n",
              "      <td>6</td>\n",
              "      <td>Tangra</td>\n",
              "      <td>374.0</td>\n",
              "      <td>3382</td>\n",
              "      <td>11058</td>\n",
              "      <td>Ready to move</td>\n",
              "    </tr>\n",
              "    <tr>\n",
              "      <th>540</th>\n",
              "      <td>3</td>\n",
              "      <td>Beniatola</td>\n",
              "      <td>150.0</td>\n",
              "      <td>4500</td>\n",
              "      <td>3333</td>\n",
              "      <td>Under Construction</td>\n",
              "    </tr>\n",
              "    <tr>\n",
              "      <th>553</th>\n",
              "      <td>5</td>\n",
              "      <td>Shyam Bazar</td>\n",
              "      <td>130.0</td>\n",
              "      <td>3300</td>\n",
              "      <td>3939</td>\n",
              "      <td>Ready to move</td>\n",
              "    </tr>\n",
              "    <tr>\n",
              "      <th>587</th>\n",
              "      <td>6</td>\n",
              "      <td>Gariahat</td>\n",
              "      <td>650.0</td>\n",
              "      <td>6068</td>\n",
              "      <td>10711</td>\n",
              "      <td>Ready to move</td>\n",
              "    </tr>\n",
              "    <tr>\n",
              "      <th>588</th>\n",
              "      <td>5</td>\n",
              "      <td>Gariahat</td>\n",
              "      <td>550.0</td>\n",
              "      <td>5500</td>\n",
              "      <td>10000</td>\n",
              "      <td>Ready to move</td>\n",
              "    </tr>\n",
              "    <tr>\n",
              "      <th>645</th>\n",
              "      <td>6</td>\n",
              "      <td>Jodhpur Park</td>\n",
              "      <td>299.0</td>\n",
              "      <td>4300</td>\n",
              "      <td>6976</td>\n",
              "      <td>Ready to move</td>\n",
              "    </tr>\n",
              "    <tr>\n",
              "      <th>649</th>\n",
              "      <td>6</td>\n",
              "      <td>Haltu</td>\n",
              "      <td>150.0</td>\n",
              "      <td>3500</td>\n",
              "      <td>4285</td>\n",
              "      <td>Ready to move</td>\n",
              "    </tr>\n",
              "    <tr>\n",
              "      <th>702</th>\n",
              "      <td>5</td>\n",
              "      <td>Haltu</td>\n",
              "      <td>140.0</td>\n",
              "      <td>3500</td>\n",
              "      <td>4000</td>\n",
              "      <td>Ready to move</td>\n",
              "    </tr>\n",
              "    <tr>\n",
              "      <th>727</th>\n",
              "      <td>9</td>\n",
              "      <td>Baruipur</td>\n",
              "      <td>900.0</td>\n",
              "      <td>6480</td>\n",
              "      <td>13888</td>\n",
              "      <td>Resale</td>\n",
              "    </tr>\n",
              "    <tr>\n",
              "      <th>782</th>\n",
              "      <td>5</td>\n",
              "      <td>Tangra</td>\n",
              "      <td>601.0</td>\n",
              "      <td>3154</td>\n",
              "      <td>19055</td>\n",
              "      <td>Under Construction</td>\n",
              "    </tr>\n",
              "  </tbody>\n",
              "</table>\n",
              "</div>"
            ],
            "text/plain": [
              "     BHK       Locality  Price_in_lakh  Area_sqft   Rate              Status\n",
              "19     9  south dum dum          250.0       6500   3846       Ready to move\n",
              "46     8     Ballygunge          500.0       4000  12500       Ready to move\n",
              "55     3         Topsia          230.0       3058   7521       Ready to move\n",
              "74     5       Baguiati          255.0       3600   7083       Ready to move\n",
              "464    9  south dum dum          250.0       6500   3846       Ready to move\n",
              "465    9  south dum dum          250.0       6500   3846       Ready to move\n",
              "466    9  south dum dum          250.0       6500   3846       Ready to move\n",
              "482    3        Dankuni           65.0       3240   2006              Resale\n",
              "537    6         Tangra          374.0       3382  11058       Ready to move\n",
              "540    3      Beniatola          150.0       4500   3333  Under Construction\n",
              "553    5    Shyam Bazar          130.0       3300   3939       Ready to move\n",
              "587    6       Gariahat          650.0       6068  10711       Ready to move\n",
              "588    5       Gariahat          550.0       5500  10000       Ready to move\n",
              "645    6   Jodhpur Park          299.0       4300   6976       Ready to move\n",
              "649    6          Haltu          150.0       3500   4285       Ready to move\n",
              "702    5          Haltu          140.0       3500   4000       Ready to move\n",
              "727    9       Baruipur          900.0       6480  13888              Resale\n",
              "782    5         Tangra          601.0       3154  19055  Under Construction"
            ]
          },
          "metadata": {
            "tags": []
          },
          "execution_count": 375
        }
      ]
    },
    {
      "cell_type": "code",
      "metadata": {
        "colab": {
          "base_uri": "https://localhost:8080/",
          "height": 600
        },
        "id": "iySXDDMTVNtj",
        "outputId": "3929faee-29ff-4035-caa5-e2d87ee9168f"
      },
      "source": [
        "plt.figure(figsize=(10,8))\n",
        "sns.barplot(x= 'Locality', y= 'Rate', data=plush_property)\n",
        "plt.title('Plush Property (3000 to 7000 sqft) location vs Rate',fontsize=12)\n",
        "plt.xticks(rotation=45, horizontalalignment='right')"
      ],
      "execution_count": 379,
      "outputs": [
        {
          "output_type": "execute_result",
          "data": {
            "text/plain": [
              "(array([ 0,  1,  2,  3,  4,  5,  6,  7,  8,  9, 10, 11]),\n",
              " <a list of 12 Text major ticklabel objects>)"
            ]
          },
          "metadata": {
            "tags": []
          },
          "execution_count": 379
        },
        {
          "output_type": "display_data",
          "data": {
            "image/png": "[encoded data removed]",
            "text/plain": [
              "<Figure size 720x576 with 1 Axes>"
            ]
          },
          "metadata": {
            "tags": [],
            "needs_background": "light"
          }
        }
      ]
    },
    {
      "cell_type": "markdown",
      "metadata": {
        "id": "W9YNteZLjzGM"
      },
      "source": [
        "Tangra, Baruipur, Ballygunge and Gariahat is costliest location for 3000- 7000 sq ft properties "
      ]
    },
    {
      "cell_type": "code",
      "metadata": {
        "colab": {
          "base_uri": "https://localhost:8080/",
          "height": 600
        },
        "id": "ULhdG-YPW6Yb",
        "outputId": "3ac39b85-2478-4d55-be2d-673a1a948b7a"
      },
      "source": [
        "plt.figure(figsize=(10,8))\n",
        "sns.barplot(x= 'Locality', y= 'Area_sqft', data=plush_property)\n",
        "plt.title('Plush Property (3000 to 7000 sqft) location vs Area available',fontsize=12)\n",
        "plt.xticks(rotation=45, horizontalalignment='right')"
      ],
      "execution_count": 382,
      "outputs": [
        {
          "output_type": "execute_result",
          "data": {
            "text/plain": [
              "(array([ 0,  1,  2,  3,  4,  5,  6,  7,  8,  9, 10, 11]),\n",
              " <a list of 12 Text major ticklabel objects>)"
            ]
          },
          "metadata": {
            "tags": []
          },
          "execution_count": 382
        },
        {
          "output_type": "display_data",
          "data": {
            "image/png": "[encoded data removed]",
            "text/plain": [
              "<Figure size 720x576 with 1 Axes>"
            ]
          },
          "metadata": {
            "tags": [],
            "needs_background": "light"
          }
        }
      ]
    },
    {
      "cell_type": "markdown",
      "metadata": {
        "id": "Fr7vc0WUmxWg"
      },
      "source": [
        "South Dumdum, Baruipur and Gariahat are areas with more than 5800-7000 sq ft properties "
      ]
    },
    {
      "cell_type": "markdown",
      "metadata": {
        "id": "sAbocbN5X0WL"
      },
      "source": [
        "**Rate wise analysis**"
      ]
    },
    {
      "cell_type": "code",
      "metadata": {
        "colab": {
          "base_uri": "https://localhost:8080/",
          "height": 350
        },
        "id": "ufEbgrqICRFL",
        "outputId": "683f1f8b-78c6-4378-d006-672da724d8f7"
      },
      "source": [
        "sns.distplot(df1['Rate'])"
      ],
      "execution_count": 335,
      "outputs": [
        {
          "output_type": "stream",
          "text": [
            "/usr/local/lib/python3.7/dist-packages/seaborn/distributions.py:2557: FutureWarning: `distplot` is a deprecated function and will be removed in a future version. Please adapt your code to use either `displot` (a figure-level function with similar flexibility) or `histplot` (an axes-level function for histograms).\n",
            "  warnings.warn(msg, FutureWarning)\n"
          ],
          "name": "stderr"
        },
        {
          "output_type": "execute_result",
          "data": {
            "text/plain": [
              "<matplotlib.axes._subplots.AxesSubplot at 0x7f8532f5f890>"
            ]
          },
          "metadata": {
            "tags": []
          },
          "execution_count": 335
        },
        {
          "output_type": "display_data",
          "data": {
            "image/png": "[encoded data removed]",
            "text/plain": [
              "<Figure size 432x288 with 1 Axes>"
            ]
          },
          "metadata": {
            "tags": [],
            "needs_background": "light"
          }
        }
      ]
    },
    {
      "cell_type": "code",
      "metadata": {
        "colab": {
          "base_uri": "https://localhost:8080/",
          "height": 419
        },
        "id": "xSge86q9Qhvk",
        "outputId": "9561452d-0115-4b7a-b15c-adbc5dc48d04"
      },
      "source": [
        "posh_area= df1[df1['Rate'].between(8000, 25000)]\n",
        "posh_area"
      ],
      "execution_count": 365,
      "outputs": [
        {
          "output_type": "execute_result",
          "data": {
            "text/html": [
              "<div>\n",
              "<style scoped>\n",
              "    .dataframe tbody tr th:only-of-type {\n",
              "        vertical-align: middle;\n",
              "    }\n",
              "\n",
              "    .dataframe tbody tr th {\n",
              "        vertical-align: top;\n",
              "    }\n",
              "\n",
              "    .dataframe thead th {\n",
              "        text-align: right;\n",
              "    }\n",
              "</style>\n",
              "<table border=\"1\" class=\"dataframe\">\n",
              "  <thead>\n",
              "    <tr style=\"text-align: right;\">\n",
              "      <th></th>\n",
              "      <th>BHK</th>\n",
              "      <th>Locality</th>\n",
              "      <th>Price_in_lakh</th>\n",
              "      <th>Area_sqft</th>\n",
              "      <th>Rate</th>\n",
              "      <th>Status</th>\n",
              "    </tr>\n",
              "  </thead>\n",
              "  <tbody>\n",
              "    <tr>\n",
              "      <th>2</th>\n",
              "      <td>2</td>\n",
              "      <td>Rajarhat</td>\n",
              "      <td>62.48</td>\n",
              "      <td>775</td>\n",
              "      <td>8062</td>\n",
              "      <td>Under Construction</td>\n",
              "    </tr>\n",
              "    <tr>\n",
              "      <th>23</th>\n",
              "      <td>3</td>\n",
              "      <td>Rajarhat</td>\n",
              "      <td>145.00</td>\n",
              "      <td>1512</td>\n",
              "      <td>9589</td>\n",
              "      <td>Ready to move</td>\n",
              "    </tr>\n",
              "    <tr>\n",
              "      <th>46</th>\n",
              "      <td>8</td>\n",
              "      <td>Ballygunge</td>\n",
              "      <td>500.00</td>\n",
              "      <td>4000</td>\n",
              "      <td>12500</td>\n",
              "      <td>Ready to move</td>\n",
              "    </tr>\n",
              "    <tr>\n",
              "      <th>47</th>\n",
              "      <td>3</td>\n",
              "      <td>Entally</td>\n",
              "      <td>155.00</td>\n",
              "      <td>1600</td>\n",
              "      <td>9687</td>\n",
              "      <td>Ready to move</td>\n",
              "    </tr>\n",
              "    <tr>\n",
              "      <th>49</th>\n",
              "      <td>2</td>\n",
              "      <td>Ballygunge</td>\n",
              "      <td>65.00</td>\n",
              "      <td>750</td>\n",
              "      <td>8666</td>\n",
              "      <td>Ready to move</td>\n",
              "    </tr>\n",
              "    <tr>\n",
              "      <th>...</th>\n",
              "      <td>...</td>\n",
              "      <td>...</td>\n",
              "      <td>...</td>\n",
              "      <td>...</td>\n",
              "      <td>...</td>\n",
              "      <td>...</td>\n",
              "    </tr>\n",
              "    <tr>\n",
              "      <th>920</th>\n",
              "      <td>3</td>\n",
              "      <td>Tangra</td>\n",
              "      <td>155.00</td>\n",
              "      <td>1394</td>\n",
              "      <td>11119</td>\n",
              "      <td>Under Construction</td>\n",
              "    </tr>\n",
              "    <tr>\n",
              "      <th>921</th>\n",
              "      <td>3</td>\n",
              "      <td>Tangra</td>\n",
              "      <td>150.00</td>\n",
              "      <td>1358</td>\n",
              "      <td>11045</td>\n",
              "      <td>Under Construction</td>\n",
              "    </tr>\n",
              "    <tr>\n",
              "      <th>922</th>\n",
              "      <td>3</td>\n",
              "      <td>Tangra</td>\n",
              "      <td>165.00</td>\n",
              "      <td>1496</td>\n",
              "      <td>11029</td>\n",
              "      <td>Under Construction</td>\n",
              "    </tr>\n",
              "    <tr>\n",
              "      <th>923</th>\n",
              "      <td>3</td>\n",
              "      <td>Tangra</td>\n",
              "      <td>157.00</td>\n",
              "      <td>1399</td>\n",
              "      <td>11222</td>\n",
              "      <td>Under Construction</td>\n",
              "    </tr>\n",
              "    <tr>\n",
              "      <th>961</th>\n",
              "      <td>3</td>\n",
              "      <td>Bhowanipore</td>\n",
              "      <td>235.00</td>\n",
              "      <td>1880</td>\n",
              "      <td>12500</td>\n",
              "      <td>Ready to move</td>\n",
              "    </tr>\n",
              "  </tbody>\n",
              "</table>\n",
              "<p>106 rows × 6 columns</p>\n",
              "</div>"
            ],
            "text/plain": [
              "     BHK     Locality  Price_in_lakh  Area_sqft   Rate              Status\n",
              "2      2     Rajarhat          62.48        775   8062  Under Construction\n",
              "23     3     Rajarhat         145.00       1512   9589       Ready to move\n",
              "46     8   Ballygunge         500.00       4000  12500       Ready to move\n",
              "47     3      Entally         155.00       1600   9687       Ready to move\n",
              "49     2   Ballygunge          65.00        750   8666       Ready to move\n",
              "..   ...          ...            ...        ...    ...                 ...\n",
              "920    3       Tangra         155.00       1394  11119  Under Construction\n",
              "921    3       Tangra         150.00       1358  11045  Under Construction\n",
              "922    3       Tangra         165.00       1496  11029  Under Construction\n",
              "923    3       Tangra         157.00       1399  11222  Under Construction\n",
              "961    3  Bhowanipore         235.00       1880  12500       Ready to move\n",
              "\n",
              "[106 rows x 6 columns]"
            ]
          },
          "metadata": {
            "tags": []
          },
          "execution_count": 365
        }
      ]
    },
    {
      "cell_type": "code",
      "metadata": {
        "colab": {
          "base_uri": "https://localhost:8080/",
          "height": 592
        },
        "id": "dysRUV2yR8kW",
        "outputId": "5ddc2741-e1c7-4764-be6a-703c6ed12181"
      },
      "source": [
        "plt.figure(figsize=(10,8))\n",
        "sns.barplot(x= 'Locality', y= 'Area_sqft', data=posh_area)\n",
        "plt.title('Posh Area( Rs. 8k- 25k /sqft) Location vs Area available',fontsize=12)\n",
        "plt.xticks(rotation=45, horizontalalignment='right')"
      ],
      "execution_count": 380,
      "outputs": [
        {
          "output_type": "execute_result",
          "data": {
            "text/plain": [
              "(array([ 0,  1,  2,  3,  4,  5,  6,  7,  8,  9, 10, 11, 12, 13, 14, 15]),\n",
              " <a list of 16 Text major ticklabel objects>)"
            ]
          },
          "metadata": {
            "tags": []
          },
          "execution_count": 380
        },
        {
          "output_type": "display_data",
          "data": {
            "image/png": "[encoded data removed]",
            "text/plain": [
              "<Figure size 720x576 with 1 Axes>"
            ]
          },
          "metadata": {
            "tags": [],
            "needs_background": "light"
          }
        }
      ]
    },
    {
      "cell_type": "markdown",
      "metadata": {
        "id": "VnOveShRiD0e"
      },
      "source": [
        "Real estate available in Baruipur and Gariahat are quite large in size while rajarhat listing has lowest sq ft available which is a little surprising considering apartments are still widely available in that area. Needs further analysis."
      ]
    },
    {
      "cell_type": "code",
      "metadata": {
        "colab": {
          "base_uri": "https://localhost:8080/",
          "height": 592
        },
        "id": "TJjrOZ40UCaM",
        "outputId": "fff98e20-d803-4c26-e682-90d9d39348ee"
      },
      "source": [
        "plt.figure(figsize=(10,8))\n",
        "sns.barplot(x= 'Locality', y= 'Rate', data=posh_area)\n",
        "plt.title('Posh Area( Rs. 8k- 25k /sqft) Location vs Rate',fontsize=12)\n",
        "plt.xticks(rotation=45, horizontalalignment='right')"
      ],
      "execution_count": 381,
      "outputs": [
        {
          "output_type": "execute_result",
          "data": {
            "text/plain": [
              "(array([ 0,  1,  2,  3,  4,  5,  6,  7,  8,  9, 10, 11, 12, 13, 14, 15]),\n",
              " <a list of 16 Text major ticklabel objects>)"
            ]
          },
          "metadata": {
            "tags": []
          },
          "execution_count": 381
        },
        {
          "output_type": "display_data",
          "data": {
            "image/png": "[encoded data removed]",
            "text/plain": [
              "<Figure size 720x576 with 1 Axes>"
            ]
          },
          "metadata": {
            "tags": [],
            "needs_background": "light"
          }
        }
      ]
    },
    {
      "cell_type": "markdown",
      "metadata": {
        "id": "Lf1TsicFfv3C"
      },
      "source": [
        "It can be seen that as per the scraped data Baruipur, Bhowanipur, New Alipore (Top 3) and then Tangra, Kalighat, Ballygunge and Gariahat has the highest rate (Rs/sqft) i.e 'posh-iest' place in Kolkata"
      ]
    },
    {
      "cell_type": "code",
      "metadata": {
        "colab": {
          "base_uri": "https://localhost:8080/",
          "height": 287
        },
        "id": "5TbHaysDBg9N",
        "outputId": "65bac2c6-6bd4-4b2d-d0c1-8860724bb2d9"
      },
      "source": [
        "sns.heatmap(df1.corr(), annot =True)"
      ],
      "execution_count": 337,
      "outputs": [
        {
          "output_type": "execute_result",
          "data": {
            "text/plain": [
              "<matplotlib.axes._subplots.AxesSubplot at 0x7f8532801590>"
            ]
          },
          "metadata": {
            "tags": []
          },
          "execution_count": 337
        },
        {
          "output_type": "display_data",
          "data": {
            "image/png": "[encoded data removed]",
            "text/plain": [
              "<Figure size 432x288 with 2 Axes>"
            ]
          },
          "metadata": {
            "tags": [],
            "needs_background": "light"
          }
        }
      ]
    },
    {
      "cell_type": "markdown",
      "metadata": {
        "id": "ZLOkn7xjI9mW"
      },
      "source": [
        "As said previously Price in Lakh = Area sqft * Rate + Miscellaneous(Tax, Stamp duty etc) , so price vs area and price vs rate is a highly correlated feature so for any further complex analysis we can only keep the price to model our dataset."
      ]
    }
  ]
}